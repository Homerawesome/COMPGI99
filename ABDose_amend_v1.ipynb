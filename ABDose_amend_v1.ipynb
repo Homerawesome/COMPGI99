{
 "cells": [
  {
   "cell_type": "code",
   "execution_count": 37,
   "metadata": {
    "collapsed": true
   },
   "outputs": [],
   "source": [
    "import pandas as pd\n",
    "import numpy as np\n",
    "import matplotlib.pyplot as plt\n",
    "%matplotlib inline\n",
    "%config InlineBackend.figure_format = 'retina'"
   ]
  },
  {
   "cell_type": "code",
   "execution_count": 2,
   "metadata": {
    "collapsed": true
   },
   "outputs": [],
   "source": [
    "abdose_adult = pd.read_excel('2017-06-28_ABDoseAdult_MW-v4.xlsx', sheetname='ABDoseAdult_copy')"
   ]
  },
  {
   "cell_type": "code",
   "execution_count": 3,
   "metadata": {
    "collapsed": false
   },
   "outputs": [
    {
     "data": {
      "text/html": [
       "<div>\n",
       "<table border=\"1\" class=\"dataframe\">\n",
       "  <thead>\n",
       "    <tr style=\"text-align: right;\">\n",
       "      <th></th>\n",
       "      <th>record_id</th>\n",
       "      <th>age</th>\n",
       "      <th>sex</th>\n",
       "      <th>height</th>\n",
       "      <th>weight</th>\n",
       "      <th>ethnicity</th>\n",
       "      <th>abdose_abx_1___1</th>\n",
       "      <th>abdose_abx_1___2</th>\n",
       "      <th>abdose_abx_1___3</th>\n",
       "      <th>abdose_abx_1___4</th>\n",
       "      <th>...</th>\n",
       "      <th>sample8_abx5_other_vpress</th>\n",
       "      <th>sample8_abx5_dose_vpress</th>\n",
       "      <th>sample8_abx5_vpress2_yn</th>\n",
       "      <th>sample8_abx5_vpress2</th>\n",
       "      <th>sample8_abx5_other_vpress2</th>\n",
       "      <th>sample8_abx5_dose_vpress2</th>\n",
       "      <th>additional_notes</th>\n",
       "      <th>notes_complete</th>\n",
       "      <th>apache</th>\n",
       "      <th>apache_score_complete</th>\n",
       "    </tr>\n",
       "  </thead>\n",
       "  <tbody>\n",
       "    <tr>\n",
       "      <th>0</th>\n",
       "      <td>A001</td>\n",
       "      <td>60.5</td>\n",
       "      <td>1</td>\n",
       "      <td>160.0</td>\n",
       "      <td>48.2</td>\n",
       "      <td>10.0</td>\n",
       "      <td>0</td>\n",
       "      <td>0</td>\n",
       "      <td>0</td>\n",
       "      <td>0</td>\n",
       "      <td>...</td>\n",
       "      <td>NaN</td>\n",
       "      <td>NaN</td>\n",
       "      <td>NaN</td>\n",
       "      <td>NaN</td>\n",
       "      <td>NaN</td>\n",
       "      <td>NaN</td>\n",
       "      <td>NaN</td>\n",
       "      <td>0</td>\n",
       "      <td>14.0</td>\n",
       "      <td>2</td>\n",
       "    </tr>\n",
       "    <tr>\n",
       "      <th>1</th>\n",
       "      <td>A002</td>\n",
       "      <td>75.5</td>\n",
       "      <td>1</td>\n",
       "      <td>166.0</td>\n",
       "      <td>70.0</td>\n",
       "      <td>3.0</td>\n",
       "      <td>0</td>\n",
       "      <td>0</td>\n",
       "      <td>1</td>\n",
       "      <td>0</td>\n",
       "      <td>...</td>\n",
       "      <td>NaN</td>\n",
       "      <td>NaN</td>\n",
       "      <td>NaN</td>\n",
       "      <td>NaN</td>\n",
       "      <td>NaN</td>\n",
       "      <td>NaN</td>\n",
       "      <td>NaN</td>\n",
       "      <td>0</td>\n",
       "      <td>21.0</td>\n",
       "      <td>2</td>\n",
       "    </tr>\n",
       "    <tr>\n",
       "      <th>2</th>\n",
       "      <td>A003</td>\n",
       "      <td>61.3</td>\n",
       "      <td>0</td>\n",
       "      <td>192.0</td>\n",
       "      <td>120.0</td>\n",
       "      <td>10.0</td>\n",
       "      <td>0</td>\n",
       "      <td>0</td>\n",
       "      <td>0</td>\n",
       "      <td>0</td>\n",
       "      <td>...</td>\n",
       "      <td>NaN</td>\n",
       "      <td>NaN</td>\n",
       "      <td>NaN</td>\n",
       "      <td>NaN</td>\n",
       "      <td>NaN</td>\n",
       "      <td>NaN</td>\n",
       "      <td>Patient discharged 05/3/15 but readmitted to I...</td>\n",
       "      <td>2</td>\n",
       "      <td>24.0</td>\n",
       "      <td>2</td>\n",
       "    </tr>\n",
       "    <tr>\n",
       "      <th>3</th>\n",
       "      <td>A004</td>\n",
       "      <td>45.9</td>\n",
       "      <td>0</td>\n",
       "      <td>170.0</td>\n",
       "      <td>127.0</td>\n",
       "      <td>3.0</td>\n",
       "      <td>0</td>\n",
       "      <td>0</td>\n",
       "      <td>0</td>\n",
       "      <td>0</td>\n",
       "      <td>...</td>\n",
       "      <td>NaN</td>\n",
       "      <td>NaN</td>\n",
       "      <td>NaN</td>\n",
       "      <td>NaN</td>\n",
       "      <td>NaN</td>\n",
       "      <td>NaN</td>\n",
       "      <td>NaN</td>\n",
       "      <td>2</td>\n",
       "      <td>16.0</td>\n",
       "      <td>2</td>\n",
       "    </tr>\n",
       "    <tr>\n",
       "      <th>4</th>\n",
       "      <td>A005</td>\n",
       "      <td>83.7</td>\n",
       "      <td>1</td>\n",
       "      <td>154.0</td>\n",
       "      <td>81.0</td>\n",
       "      <td>6.0</td>\n",
       "      <td>0</td>\n",
       "      <td>0</td>\n",
       "      <td>0</td>\n",
       "      <td>0</td>\n",
       "      <td>...</td>\n",
       "      <td>NaN</td>\n",
       "      <td>NaN</td>\n",
       "      <td>NaN</td>\n",
       "      <td>NaN</td>\n",
       "      <td>NaN</td>\n",
       "      <td>NaN</td>\n",
       "      <td>NaN</td>\n",
       "      <td>0</td>\n",
       "      <td>24.0</td>\n",
       "      <td>2</td>\n",
       "    </tr>\n",
       "  </tbody>\n",
       "</table>\n",
       "<p>5 rows × 2599 columns</p>\n",
       "</div>"
      ],
      "text/plain": [
       "  record_id   age  sex  height  weight  ethnicity  abdose_abx_1___1  \\\n",
       "0      A001  60.5    1   160.0    48.2       10.0                 0   \n",
       "1      A002  75.5    1   166.0    70.0        3.0                 0   \n",
       "2      A003  61.3    0   192.0   120.0       10.0                 0   \n",
       "3      A004  45.9    0   170.0   127.0        3.0                 0   \n",
       "4      A005  83.7    1   154.0    81.0        6.0                 0   \n",
       "\n",
       "   abdose_abx_1___2  abdose_abx_1___3  abdose_abx_1___4  \\\n",
       "0                 0                 0                 0   \n",
       "1                 0                 1                 0   \n",
       "2                 0                 0                 0   \n",
       "3                 0                 0                 0   \n",
       "4                 0                 0                 0   \n",
       "\n",
       "           ...            sample8_abx5_other_vpress  sample8_abx5_dose_vpress  \\\n",
       "0          ...                                  NaN                       NaN   \n",
       "1          ...                                  NaN                       NaN   \n",
       "2          ...                                  NaN                       NaN   \n",
       "3          ...                                  NaN                       NaN   \n",
       "4          ...                                  NaN                       NaN   \n",
       "\n",
       "   sample8_abx5_vpress2_yn  sample8_abx5_vpress2  sample8_abx5_other_vpress2  \\\n",
       "0                      NaN                   NaN                         NaN   \n",
       "1                      NaN                   NaN                         NaN   \n",
       "2                      NaN                   NaN                         NaN   \n",
       "3                      NaN                   NaN                         NaN   \n",
       "4                      NaN                   NaN                         NaN   \n",
       "\n",
       "   sample8_abx5_dose_vpress2  \\\n",
       "0                        NaN   \n",
       "1                        NaN   \n",
       "2                        NaN   \n",
       "3                        NaN   \n",
       "4                        NaN   \n",
       "\n",
       "                                    additional_notes  notes_complete  apache  \\\n",
       "0                                                NaN               0    14.0   \n",
       "1                                                NaN               0    21.0   \n",
       "2  Patient discharged 05/3/15 but readmitted to I...               2    24.0   \n",
       "3                                                NaN               2    16.0   \n",
       "4                                                NaN               0    24.0   \n",
       "\n",
       "   apache_score_complete  \n",
       "0                      2  \n",
       "1                      2  \n",
       "2                      2  \n",
       "3                      2  \n",
       "4                      2  \n",
       "\n",
       "[5 rows x 2599 columns]"
      ]
     },
     "execution_count": 3,
     "metadata": {},
     "output_type": "execute_result"
    }
   ],
   "source": [
    "df_sample = abdose_adult\n",
    "df_sample.head()"
   ]
  },
  {
   "cell_type": "code",
   "execution_count": 4,
   "metadata": {
    "collapsed": false
   },
   "outputs": [],
   "source": [
    "df_crp_48 = pd.concat([df_sample['icuadmin_crp'], df_sample['hospadmin_crp']], axis=1)\n",
    "df_crp_48 = pd.concat([df_crp_48, df_sample['baseline_crp']], axis=1)\n",
    "df_crp_48 = pd.concat([df_crp_48, df_sample['sd1_crp']], axis=1)\n",
    "df_crp_48 = pd.concat([df_crp_48, df_sample['sd2_crp']], axis=1)\n",
    "df_crp_48 = pd.concat([df_crp_48, df_sample['sd3_crp']], axis=1)\n",
    "df_crp_48 = pd.concat([df_crp_48, df_sample['fu48_crp']], axis=1)"
   ]
  },
  {
   "cell_type": "code",
   "execution_count": 5,
   "metadata": {
    "collapsed": false
   },
   "outputs": [
    {
     "data": {
      "text/html": [
       "<div>\n",
       "<table border=\"1\" class=\"dataframe\">\n",
       "  <thead>\n",
       "    <tr style=\"text-align: right;\">\n",
       "      <th></th>\n",
       "      <th>icuadmin_crp</th>\n",
       "      <th>hospadmin_crp</th>\n",
       "      <th>baseline_crp</th>\n",
       "      <th>sd1_crp</th>\n",
       "      <th>sd2_crp</th>\n",
       "      <th>sd3_crp</th>\n",
       "      <th>fu48_crp</th>\n",
       "    </tr>\n",
       "  </thead>\n",
       "  <tbody>\n",
       "    <tr>\n",
       "      <th>0</th>\n",
       "      <td>339.8</td>\n",
       "      <td>33.5</td>\n",
       "      <td>NaN</td>\n",
       "      <td>177.3</td>\n",
       "      <td>133.0</td>\n",
       "      <td>NaN</td>\n",
       "      <td>108.6</td>\n",
       "    </tr>\n",
       "    <tr>\n",
       "      <th>1</th>\n",
       "      <td>242.3</td>\n",
       "      <td>NaN</td>\n",
       "      <td>NaN</td>\n",
       "      <td>105.1</td>\n",
       "      <td>111.2</td>\n",
       "      <td>NaN</td>\n",
       "      <td>29.6</td>\n",
       "    </tr>\n",
       "    <tr>\n",
       "      <th>2</th>\n",
       "      <td>41.4</td>\n",
       "      <td>41.4</td>\n",
       "      <td>NaN</td>\n",
       "      <td>69.3</td>\n",
       "      <td>69.9</td>\n",
       "      <td>NaN</td>\n",
       "      <td>21.2</td>\n",
       "    </tr>\n",
       "    <tr>\n",
       "      <th>3</th>\n",
       "      <td>66.6</td>\n",
       "      <td>30.2</td>\n",
       "      <td>13.0</td>\n",
       "      <td>92.5</td>\n",
       "      <td>110.0</td>\n",
       "      <td>NaN</td>\n",
       "      <td>NaN</td>\n",
       "    </tr>\n",
       "    <tr>\n",
       "      <th>4</th>\n",
       "      <td>51.0</td>\n",
       "      <td>9.1</td>\n",
       "      <td>NaN</td>\n",
       "      <td>115.3</td>\n",
       "      <td>115.3</td>\n",
       "      <td>NaN</td>\n",
       "      <td>110.3</td>\n",
       "    </tr>\n",
       "  </tbody>\n",
       "</table>\n",
       "</div>"
      ],
      "text/plain": [
       "   icuadmin_crp  hospadmin_crp  baseline_crp  sd1_crp  sd2_crp  sd3_crp  \\\n",
       "0         339.8           33.5           NaN    177.3    133.0      NaN   \n",
       "1         242.3            NaN           NaN    105.1    111.2      NaN   \n",
       "2          41.4           41.4           NaN     69.3     69.9      NaN   \n",
       "3          66.6           30.2          13.0     92.5    110.0      NaN   \n",
       "4          51.0            9.1           NaN    115.3    115.3      NaN   \n",
       "\n",
       "   fu48_crp  \n",
       "0     108.6  \n",
       "1      29.6  \n",
       "2      21.2  \n",
       "3       NaN  \n",
       "4     110.3  "
      ]
     },
     "execution_count": 5,
     "metadata": {},
     "output_type": "execute_result"
    }
   ],
   "source": [
    "df_crp_48.head()"
   ]
  },
  {
   "cell_type": "code",
   "execution_count": 6,
   "metadata": {
    "collapsed": true
   },
   "outputs": [],
   "source": [
    "df_wcc_48 = pd.concat([df_sample['icuadmin_wcc'], df_sample['hospadmin_wcc']], axis=1)\n",
    "df_wcc_48 = pd.concat([df_wcc_48, df_sample['baseline_wcc']], axis=1)\n",
    "df_wcc_48 = pd.concat([df_wcc_48, df_sample['sd1_wcc']], axis=1)\n",
    "df_wcc_48 = pd.concat([df_wcc_48, df_sample['sd2_wcc']], axis=1)\n",
    "df_wcc_48 = pd.concat([df_wcc_48, df_sample['sd3_wcc']], axis=1)\n",
    "df_wcc_48 = pd.concat([df_wcc_48, df_sample['fu48_wcc']], axis=1)"
   ]
  },
  {
   "cell_type": "code",
   "execution_count": 7,
   "metadata": {
    "collapsed": false
   },
   "outputs": [
    {
     "data": {
      "text/html": [
       "<div>\n",
       "<table border=\"1\" class=\"dataframe\">\n",
       "  <thead>\n",
       "    <tr style=\"text-align: right;\">\n",
       "      <th></th>\n",
       "      <th>icuadmin_wcc</th>\n",
       "      <th>hospadmin_wcc</th>\n",
       "      <th>baseline_wcc</th>\n",
       "      <th>sd1_wcc</th>\n",
       "      <th>sd2_wcc</th>\n",
       "      <th>sd3_wcc</th>\n",
       "      <th>fu48_wcc</th>\n",
       "    </tr>\n",
       "  </thead>\n",
       "  <tbody>\n",
       "    <tr>\n",
       "      <th>0</th>\n",
       "      <td>8.1</td>\n",
       "      <td>12.7</td>\n",
       "      <td>8.4</td>\n",
       "      <td>19.4</td>\n",
       "      <td>13.8</td>\n",
       "      <td>NaN</td>\n",
       "      <td>14.0</td>\n",
       "    </tr>\n",
       "    <tr>\n",
       "      <th>1</th>\n",
       "      <td>25.0</td>\n",
       "      <td>NaN</td>\n",
       "      <td>NaN</td>\n",
       "      <td>13.3</td>\n",
       "      <td>14.8</td>\n",
       "      <td>NaN</td>\n",
       "      <td>10.8</td>\n",
       "    </tr>\n",
       "    <tr>\n",
       "      <th>2</th>\n",
       "      <td>27.6</td>\n",
       "      <td>31.8</td>\n",
       "      <td>5.1</td>\n",
       "      <td>17.2</td>\n",
       "      <td>15.0</td>\n",
       "      <td>NaN</td>\n",
       "      <td>9.2</td>\n",
       "    </tr>\n",
       "    <tr>\n",
       "      <th>3</th>\n",
       "      <td>14.9</td>\n",
       "      <td>9.2</td>\n",
       "      <td>3.8</td>\n",
       "      <td>14.7</td>\n",
       "      <td>19.8</td>\n",
       "      <td>NaN</td>\n",
       "      <td>NaN</td>\n",
       "    </tr>\n",
       "    <tr>\n",
       "      <th>4</th>\n",
       "      <td>8.8</td>\n",
       "      <td>5.1</td>\n",
       "      <td>NaN</td>\n",
       "      <td>11.1</td>\n",
       "      <td>11.1</td>\n",
       "      <td>NaN</td>\n",
       "      <td>12.5</td>\n",
       "    </tr>\n",
       "  </tbody>\n",
       "</table>\n",
       "</div>"
      ],
      "text/plain": [
       "   icuadmin_wcc  hospadmin_wcc  baseline_wcc  sd1_wcc  sd2_wcc  sd3_wcc  \\\n",
       "0           8.1           12.7           8.4     19.4     13.8      NaN   \n",
       "1          25.0            NaN           NaN     13.3     14.8      NaN   \n",
       "2          27.6           31.8           5.1     17.2     15.0      NaN   \n",
       "3          14.9            9.2           3.8     14.7     19.8      NaN   \n",
       "4           8.8            5.1           NaN     11.1     11.1      NaN   \n",
       "\n",
       "   fu48_wcc  \n",
       "0      14.0  \n",
       "1      10.8  \n",
       "2       9.2  \n",
       "3       NaN  \n",
       "4      12.5  "
      ]
     },
     "execution_count": 7,
     "metadata": {},
     "output_type": "execute_result"
    }
   ],
   "source": [
    "df_wcc_48.head()"
   ]
  },
  {
   "cell_type": "code",
   "execution_count": 8,
   "metadata": {
    "collapsed": true
   },
   "outputs": [],
   "source": [
    "df_hi_temp_48 = pd.concat([df_sample['highest_temp_admission'], df_sample['sd1_hi_temp']], axis=1)\n",
    "df_hi_temp_48 = pd.concat([df_hi_temp_48, df_sample['sd2_hi_temp']], axis=1)\n",
    "df_hi_temp_48 = pd.concat([df_hi_temp_48, df_sample['sd3_hi_temp']], axis=1)\n",
    "df_hi_temp_48 = pd.concat([df_hi_temp_48, df_sample['fu48_hi_temp']], axis=1)"
   ]
  },
  {
   "cell_type": "code",
   "execution_count": 9,
   "metadata": {
    "collapsed": false
   },
   "outputs": [
    {
     "data": {
      "text/html": [
       "<div>\n",
       "<table border=\"1\" class=\"dataframe\">\n",
       "  <thead>\n",
       "    <tr style=\"text-align: right;\">\n",
       "      <th></th>\n",
       "      <th>highest_temp_admission</th>\n",
       "      <th>sd1_hi_temp</th>\n",
       "      <th>sd2_hi_temp</th>\n",
       "      <th>sd3_hi_temp</th>\n",
       "      <th>fu48_hi_temp</th>\n",
       "    </tr>\n",
       "  </thead>\n",
       "  <tbody>\n",
       "    <tr>\n",
       "      <th>0</th>\n",
       "      <td>37.2</td>\n",
       "      <td>37.4</td>\n",
       "      <td>37.0</td>\n",
       "      <td>NaN</td>\n",
       "      <td>36.0</td>\n",
       "    </tr>\n",
       "    <tr>\n",
       "      <th>1</th>\n",
       "      <td>37.3</td>\n",
       "      <td>37.2</td>\n",
       "      <td>37.6</td>\n",
       "      <td>NaN</td>\n",
       "      <td>37.3</td>\n",
       "    </tr>\n",
       "    <tr>\n",
       "      <th>2</th>\n",
       "      <td>37.3</td>\n",
       "      <td>36.8</td>\n",
       "      <td>37.1</td>\n",
       "      <td>NaN</td>\n",
       "      <td>36.8</td>\n",
       "    </tr>\n",
       "    <tr>\n",
       "      <th>3</th>\n",
       "      <td>37.9</td>\n",
       "      <td>37.0</td>\n",
       "      <td>36.8</td>\n",
       "      <td>NaN</td>\n",
       "      <td>NaN</td>\n",
       "    </tr>\n",
       "    <tr>\n",
       "      <th>4</th>\n",
       "      <td>36.5</td>\n",
       "      <td>37.1</td>\n",
       "      <td>36.5</td>\n",
       "      <td>NaN</td>\n",
       "      <td>36.9</td>\n",
       "    </tr>\n",
       "  </tbody>\n",
       "</table>\n",
       "</div>"
      ],
      "text/plain": [
       "   highest_temp_admission  sd1_hi_temp  sd2_hi_temp  sd3_hi_temp  fu48_hi_temp\n",
       "0                    37.2         37.4         37.0          NaN          36.0\n",
       "1                    37.3         37.2         37.6          NaN          37.3\n",
       "2                    37.3         36.8         37.1          NaN          36.8\n",
       "3                    37.9         37.0         36.8          NaN           NaN\n",
       "4                    36.5         37.1         36.5          NaN          36.9"
      ]
     },
     "execution_count": 9,
     "metadata": {},
     "output_type": "execute_result"
    }
   ],
   "source": [
    "df_hi_temp_48.head()"
   ]
  },
  {
   "cell_type": "code",
   "execution_count": 10,
   "metadata": {
    "collapsed": false
   },
   "outputs": [],
   "source": [
    "frames = [df_crp_48, df_wcc_48, df_hi_temp_48, df_sample['apache'], df_sample['fu48_clinical_outcome']]\n",
    "df_try_48 = pd.concat(frames, axis=1)"
   ]
  },
  {
   "cell_type": "code",
   "execution_count": 11,
   "metadata": {
    "collapsed": false
   },
   "outputs": [
    {
     "data": {
      "text/html": [
       "<div>\n",
       "<table border=\"1\" class=\"dataframe\">\n",
       "  <thead>\n",
       "    <tr style=\"text-align: right;\">\n",
       "      <th></th>\n",
       "      <th>icuadmin_crp</th>\n",
       "      <th>hospadmin_crp</th>\n",
       "      <th>baseline_crp</th>\n",
       "      <th>sd1_crp</th>\n",
       "      <th>sd2_crp</th>\n",
       "      <th>sd3_crp</th>\n",
       "      <th>fu48_crp</th>\n",
       "      <th>icuadmin_wcc</th>\n",
       "      <th>hospadmin_wcc</th>\n",
       "      <th>baseline_wcc</th>\n",
       "      <th>...</th>\n",
       "      <th>sd2_wcc</th>\n",
       "      <th>sd3_wcc</th>\n",
       "      <th>fu48_wcc</th>\n",
       "      <th>highest_temp_admission</th>\n",
       "      <th>sd1_hi_temp</th>\n",
       "      <th>sd2_hi_temp</th>\n",
       "      <th>sd3_hi_temp</th>\n",
       "      <th>fu48_hi_temp</th>\n",
       "      <th>apache</th>\n",
       "      <th>fu48_clinical_outcome</th>\n",
       "    </tr>\n",
       "  </thead>\n",
       "  <tbody>\n",
       "    <tr>\n",
       "      <th>0</th>\n",
       "      <td>339.8</td>\n",
       "      <td>33.5</td>\n",
       "      <td>NaN</td>\n",
       "      <td>177.3</td>\n",
       "      <td>133.0</td>\n",
       "      <td>NaN</td>\n",
       "      <td>108.6</td>\n",
       "      <td>8.1</td>\n",
       "      <td>12.7</td>\n",
       "      <td>8.4</td>\n",
       "      <td>...</td>\n",
       "      <td>13.8</td>\n",
       "      <td>NaN</td>\n",
       "      <td>14.0</td>\n",
       "      <td>37.2</td>\n",
       "      <td>37.4</td>\n",
       "      <td>37.0</td>\n",
       "      <td>NaN</td>\n",
       "      <td>36.0</td>\n",
       "      <td>14.0</td>\n",
       "      <td>1</td>\n",
       "    </tr>\n",
       "    <tr>\n",
       "      <th>1</th>\n",
       "      <td>242.3</td>\n",
       "      <td>NaN</td>\n",
       "      <td>NaN</td>\n",
       "      <td>105.1</td>\n",
       "      <td>111.2</td>\n",
       "      <td>NaN</td>\n",
       "      <td>29.6</td>\n",
       "      <td>25.0</td>\n",
       "      <td>NaN</td>\n",
       "      <td>NaN</td>\n",
       "      <td>...</td>\n",
       "      <td>14.8</td>\n",
       "      <td>NaN</td>\n",
       "      <td>10.8</td>\n",
       "      <td>37.3</td>\n",
       "      <td>37.2</td>\n",
       "      <td>37.6</td>\n",
       "      <td>NaN</td>\n",
       "      <td>37.3</td>\n",
       "      <td>21.0</td>\n",
       "      <td>2</td>\n",
       "    </tr>\n",
       "    <tr>\n",
       "      <th>2</th>\n",
       "      <td>41.4</td>\n",
       "      <td>41.4</td>\n",
       "      <td>NaN</td>\n",
       "      <td>69.3</td>\n",
       "      <td>69.9</td>\n",
       "      <td>NaN</td>\n",
       "      <td>21.2</td>\n",
       "      <td>27.6</td>\n",
       "      <td>31.8</td>\n",
       "      <td>5.1</td>\n",
       "      <td>...</td>\n",
       "      <td>15.0</td>\n",
       "      <td>NaN</td>\n",
       "      <td>9.2</td>\n",
       "      <td>37.3</td>\n",
       "      <td>36.8</td>\n",
       "      <td>37.1</td>\n",
       "      <td>NaN</td>\n",
       "      <td>36.8</td>\n",
       "      <td>24.0</td>\n",
       "      <td>2</td>\n",
       "    </tr>\n",
       "    <tr>\n",
       "      <th>3</th>\n",
       "      <td>66.6</td>\n",
       "      <td>30.2</td>\n",
       "      <td>13.0</td>\n",
       "      <td>92.5</td>\n",
       "      <td>110.0</td>\n",
       "      <td>NaN</td>\n",
       "      <td>NaN</td>\n",
       "      <td>14.9</td>\n",
       "      <td>9.2</td>\n",
       "      <td>3.8</td>\n",
       "      <td>...</td>\n",
       "      <td>19.8</td>\n",
       "      <td>NaN</td>\n",
       "      <td>NaN</td>\n",
       "      <td>37.9</td>\n",
       "      <td>37.0</td>\n",
       "      <td>36.8</td>\n",
       "      <td>NaN</td>\n",
       "      <td>NaN</td>\n",
       "      <td>16.0</td>\n",
       "      <td>4</td>\n",
       "    </tr>\n",
       "    <tr>\n",
       "      <th>4</th>\n",
       "      <td>51.0</td>\n",
       "      <td>9.1</td>\n",
       "      <td>NaN</td>\n",
       "      <td>115.3</td>\n",
       "      <td>115.3</td>\n",
       "      <td>NaN</td>\n",
       "      <td>110.3</td>\n",
       "      <td>8.8</td>\n",
       "      <td>5.1</td>\n",
       "      <td>NaN</td>\n",
       "      <td>...</td>\n",
       "      <td>11.1</td>\n",
       "      <td>NaN</td>\n",
       "      <td>12.5</td>\n",
       "      <td>36.5</td>\n",
       "      <td>37.1</td>\n",
       "      <td>36.5</td>\n",
       "      <td>NaN</td>\n",
       "      <td>36.9</td>\n",
       "      <td>24.0</td>\n",
       "      <td>1</td>\n",
       "    </tr>\n",
       "  </tbody>\n",
       "</table>\n",
       "<p>5 rows × 21 columns</p>\n",
       "</div>"
      ],
      "text/plain": [
       "   icuadmin_crp  hospadmin_crp  baseline_crp  sd1_crp  sd2_crp  sd3_crp  \\\n",
       "0         339.8           33.5           NaN    177.3    133.0      NaN   \n",
       "1         242.3            NaN           NaN    105.1    111.2      NaN   \n",
       "2          41.4           41.4           NaN     69.3     69.9      NaN   \n",
       "3          66.6           30.2          13.0     92.5    110.0      NaN   \n",
       "4          51.0            9.1           NaN    115.3    115.3      NaN   \n",
       "\n",
       "   fu48_crp  icuadmin_wcc  hospadmin_wcc  baseline_wcc          ...            \\\n",
       "0     108.6           8.1           12.7           8.4          ...             \n",
       "1      29.6          25.0            NaN           NaN          ...             \n",
       "2      21.2          27.6           31.8           5.1          ...             \n",
       "3       NaN          14.9            9.2           3.8          ...             \n",
       "4     110.3           8.8            5.1           NaN          ...             \n",
       "\n",
       "   sd2_wcc  sd3_wcc  fu48_wcc  highest_temp_admission  sd1_hi_temp  \\\n",
       "0     13.8      NaN      14.0                    37.2         37.4   \n",
       "1     14.8      NaN      10.8                    37.3         37.2   \n",
       "2     15.0      NaN       9.2                    37.3         36.8   \n",
       "3     19.8      NaN       NaN                    37.9         37.0   \n",
       "4     11.1      NaN      12.5                    36.5         37.1   \n",
       "\n",
       "   sd2_hi_temp  sd3_hi_temp  fu48_hi_temp  apache  fu48_clinical_outcome  \n",
       "0         37.0          NaN          36.0    14.0                      1  \n",
       "1         37.6          NaN          37.3    21.0                      2  \n",
       "2         37.1          NaN          36.8    24.0                      2  \n",
       "3         36.8          NaN           NaN    16.0                      4  \n",
       "4         36.5          NaN          36.9    24.0                      1  \n",
       "\n",
       "[5 rows x 21 columns]"
      ]
     },
     "execution_count": 11,
     "metadata": {},
     "output_type": "execute_result"
    }
   ],
   "source": [
    "df_try_48.head()"
   ]
  },
  {
   "cell_type": "code",
   "execution_count": 12,
   "metadata": {
    "collapsed": false
   },
   "outputs": [
    {
     "name": "stdout",
     "output_type": "stream",
     "text": [
      "icuadmin_crp\n",
      "0.145833333333\n",
      "hospadmin_crp\n",
      "0.472222222222\n",
      "baseline_crp\n",
      "0.784722222222\n",
      "sd1_crp\n",
      "0.284722222222\n",
      "sd2_crp\n",
      "0.277777777778\n",
      "sd3_crp\n",
      "0.902777777778\n",
      "fu48_crp\n",
      "0.298611111111\n",
      "icuadmin_wcc\n",
      "0.00694444444444\n",
      "hospadmin_wcc\n",
      "0.388888888889\n",
      "baseline_wcc\n",
      "0.631944444444\n",
      "sd1_wcc\n",
      "0.208333333333\n",
      "sd2_wcc\n",
      "0.256944444444\n",
      "sd3_wcc\n",
      "0.895833333333\n",
      "fu48_wcc\n",
      "0.298611111111\n",
      "highest_temp_admission\n",
      "0.0347222222222\n",
      "sd1_hi_temp\n",
      "0.208333333333\n",
      "sd2_hi_temp\n",
      "0.263888888889\n",
      "sd3_hi_temp\n",
      "0.902777777778\n",
      "fu48_hi_temp\n",
      "0.305555555556\n",
      "apache\n",
      "0.0208333333333\n",
      "fu48_clinical_outcome\n",
      "0.0\n"
     ]
    }
   ],
   "source": [
    "for column in df_try_48:\n",
    "    mv_pct = df_try_48[column].isnull().sum()/len(df_try_48)\n",
    "    print(column)\n",
    "    print(mv_pct)"
   ]
  },
  {
   "cell_type": "code",
   "execution_count": 13,
   "metadata": {
    "collapsed": true
   },
   "outputs": [],
   "source": [
    "df_try_48['icuadmin_crp'] = df_try_48['icuadmin_crp'].fillna(df_try_48['icuadmin_crp'].median())\n",
    "df_try_48['sd1_crp'] = df_try_48['sd1_crp'].fillna(df_try_48['sd1_crp'].median())\n",
    "df_try_48['sd2_crp'] = df_try_48['sd2_crp'].fillna(df_try_48['sd2_crp'].median())\n",
    "df_try_48['fu48_crp'] = df_try_48['fu48_crp'].fillna(df_try_48['fu48_crp'].median())\n",
    "\n",
    "df_try_48['icuadmin_wcc'] = df_try_48['icuadmin_wcc'].fillna(df_try_48['icuadmin_wcc'].median())\n",
    "df_try_48['sd1_wcc'] = df_try_48['sd1_wcc'].fillna(df_try_48['sd1_wcc'].median())\n",
    "df_try_48['sd2_wcc'] = df_try_48['sd2_wcc'].fillna(df_try_48['sd2_wcc'].median())\n",
    "df_try_48['fu48_wcc'] = df_try_48['fu48_wcc'].fillna(df_try_48['fu48_wcc'].median())\n",
    "\n",
    "df_try_48['highest_temp_admission'] = df_try_48['highest_temp_admission'].fillna(df_try_48['highest_temp_admission'].median())\n",
    "df_try_48['sd1_hi_temp'] = df_try_48['sd1_hi_temp'].fillna(df_try_48['sd1_hi_temp'].median())\n",
    "df_try_48['sd2_hi_temp'] = df_try_48['sd2_hi_temp'].fillna(df_try_48['sd2_hi_temp'].median())\n",
    "df_try_48['fu48_hi_temp'] = df_try_48['fu48_hi_temp'].fillna(df_try_48['fu48_hi_temp'].median())\n",
    "\n",
    "df_try_48['apache'] = df_try_48['apache'].fillna(df_try_48['apache'].median())"
   ]
  },
  {
   "cell_type": "code",
   "execution_count": 14,
   "metadata": {
    "collapsed": true
   },
   "outputs": [],
   "source": [
    "cols = ['icuadmin_crp',\n",
    "        'sd1_crp',\n",
    "        'sd2_crp',\n",
    "        'fu48_crp',\n",
    "        'icuadmin_wcc',\n",
    "        'sd1_wcc',\n",
    "        'sd2_wcc',\n",
    "        'fu48_wcc',\n",
    "        'highest_temp_admission',\n",
    "        'sd1_hi_temp',\n",
    "        'sd2_hi_temp',\n",
    "        'fu48_hi_temp',\n",
    "        'apache',\n",
    "        'fu48_clinical_outcome']"
   ]
  },
  {
   "cell_type": "code",
   "execution_count": 15,
   "metadata": {
    "collapsed": true
   },
   "outputs": [],
   "source": [
    "df_try_48['fu48_clinical_outcome'] = df_try_48['fu48_clinical_outcome'].replace(2,0)\n",
    "df_try_48['fu48_clinical_outcome'] = df_try_48['fu48_clinical_outcome'].replace(3,0)\n",
    "df_try_48['fu48_clinical_outcome'] = df_try_48['fu48_clinical_outcome'].replace(4,0)"
   ]
  },
  {
   "cell_type": "code",
   "execution_count": 16,
   "metadata": {
    "collapsed": true
   },
   "outputs": [],
   "source": [
    "from xgboost import XGBClassifier\n",
    "from sklearn import svm\n",
    "from sklearn.naive_bayes import GaussianNB\n",
    "from sklearn.ensemble import RandomForestClassifier\n",
    "from sklearn.model_selection import train_test_split\n",
    "from sklearn.metrics import accuracy_score"
   ]
  },
  {
   "cell_type": "code",
   "execution_count": 17,
   "metadata": {
    "collapsed": false
   },
   "outputs": [],
   "source": [
    "X = df_try_48[cols]\n",
    "X = X.drop(['fu48_clinical_outcome'], axis=1)\n",
    "Y = df_try_48['fu48_clinical_outcome']\n",
    "seed = 7\n",
    "test_size = 0.33\n",
    "X_train, X_test, y_train, y_test = train_test_split(X, Y, test_size=test_size, random_state=seed)"
   ]
  },
  {
   "cell_type": "code",
   "execution_count": 18,
   "metadata": {
    "collapsed": false
   },
   "outputs": [
    {
     "data": {
      "text/plain": [
       "SVC(C=1.0, cache_size=200, class_weight=None, coef0=0.0,\n",
       "  decision_function_shape=None, degree=3, gamma='auto', kernel='rbf',\n",
       "  max_iter=-1, probability=False, random_state=None, shrinking=True,\n",
       "  tol=0.001, verbose=False)"
      ]
     },
     "execution_count": 18,
     "metadata": {},
     "output_type": "execute_result"
    }
   ],
   "source": [
    "# SVM\n",
    "svm_clf = svm.SVC(C=1.0, \n",
    "              cache_size=200, \n",
    "              class_weight=None, \n",
    "              coef0=0.0,\n",
    "              decision_function_shape=None, \n",
    "              degree=3, \n",
    "              gamma='auto', \n",
    "              kernel='rbf',\n",
    "              max_iter=-1, \n",
    "              probability=False, \n",
    "              random_state=None, \n",
    "              shrinking=True,\n",
    "              tol=0.001, \n",
    "              verbose=False)\n",
    "svm_clf.fit(X_train, y_train)"
   ]
  },
  {
   "cell_type": "code",
   "execution_count": 19,
   "metadata": {
    "collapsed": false
   },
   "outputs": [
    {
     "name": "stdout",
     "output_type": "stream",
     "text": [
      "Accuracy: 62.50%\n"
     ]
    }
   ],
   "source": [
    "y_pred = svm_clf.predict(X_test)\n",
    "predictions = [round(value) for value in y_pred]\n",
    "accuracy = accuracy_score(y_test, predictions)\n",
    "print(\"Accuracy: %.2f%%\" % (accuracy * 100.0))"
   ]
  },
  {
   "cell_type": "code",
   "execution_count": 20,
   "metadata": {
    "collapsed": false
   },
   "outputs": [
    {
     "data": {
      "text/plain": [
       "XGBClassifier(base_score=0.5, colsample_bylevel=1, colsample_bytree=1,\n",
       "       gamma=0, learning_rate=0.1, max_delta_step=0, max_depth=3,\n",
       "       min_child_weight=1, missing=None, n_estimators=100, nthread=-1,\n",
       "       objective='binary:logistic', reg_alpha=100, reg_lambda=1,\n",
       "       scale_pos_weight=1, seed=0, silent=True, subsample=1)"
      ]
     },
     "execution_count": 20,
     "metadata": {},
     "output_type": "execute_result"
    }
   ],
   "source": [
    "# Logistic regression\n",
    "xgb_clf = XGBClassifier(base_score=0.5, \n",
    "                       colsample_bylevel=1, \n",
    "                       colsample_bytree=1,\n",
    "                       gamma=0, \n",
    "                       learning_rate=0.1, \n",
    "                       max_delta_step=0, \n",
    "                       max_depth=3,\n",
    "                       min_child_weight=1, \n",
    "                       missing=None, \n",
    "                       n_estimators=100, \n",
    "                       nthread=-1,\n",
    "                       objective='binary:logistic', \n",
    "                       reg_alpha=100, \n",
    "                       reg_lambda=1,\n",
    "                       scale_pos_weight=1, \n",
    "                       seed=0, \n",
    "                       silent=True, \n",
    "                       subsample=1)\n",
    "xgb_clf.fit(X_train, y_train)"
   ]
  },
  {
   "cell_type": "code",
   "execution_count": 21,
   "metadata": {
    "collapsed": false
   },
   "outputs": [
    {
     "name": "stdout",
     "output_type": "stream",
     "text": [
      "Accuracy: 62.50%\n"
     ]
    }
   ],
   "source": [
    "y_pred = xgb_clf.predict(X_test)\n",
    "predictions = [round(value) for value in y_pred]\n",
    "accuracy = accuracy_score(y_test, predictions)\n",
    "print(\"Accuracy: %.2f%%\" % (accuracy * 100.0))"
   ]
  },
  {
   "cell_type": "code",
   "execution_count": 22,
   "metadata": {
    "collapsed": false
   },
   "outputs": [
    {
     "data": {
      "text/plain": [
       "RandomForestClassifier(bootstrap=True, class_weight=None, criterion='gini',\n",
       "            max_depth=None, max_features='auto', max_leaf_nodes=None,\n",
       "            min_impurity_split=1e-07, min_samples_leaf=1,\n",
       "            min_samples_split=2, min_weight_fraction_leaf=0.0,\n",
       "            n_estimators=100, n_jobs=1, oob_score=False, random_state=None,\n",
       "            verbose=0, warm_start=False)"
      ]
     },
     "execution_count": 22,
     "metadata": {},
     "output_type": "execute_result"
    }
   ],
   "source": [
    "# Random forest\n",
    "rf = RandomForestClassifier(bootstrap=True, \n",
    "                            class_weight=None, \n",
    "                            criterion='gini',\n",
    "                            max_depth=None, \n",
    "                            max_features='auto', \n",
    "                            max_leaf_nodes=None,\n",
    "                            min_impurity_split=1e-07, \n",
    "                            min_samples_leaf=1,\n",
    "                            min_samples_split=2, \n",
    "                            min_weight_fraction_leaf=0.0,\n",
    "                            n_estimators=100, \n",
    "                            n_jobs=1, \n",
    "                            oob_score=False, \n",
    "                            random_state=None,\n",
    "                            verbose=0, warm_start=False)\n",
    "rf.fit(X_train, y_train)"
   ]
  },
  {
   "cell_type": "code",
   "execution_count": 23,
   "metadata": {
    "collapsed": false
   },
   "outputs": [
    {
     "name": "stdout",
     "output_type": "stream",
     "text": [
      "Accuracy: 39.58%\n"
     ]
    }
   ],
   "source": [
    "y_pred = rf.predict(X_test)\n",
    "predictions = [round(value) for value in y_pred]\n",
    "accuracy = accuracy_score(y_test, predictions)\n",
    "print(\"Accuracy: %.2f%%\" % (accuracy * 100.0))"
   ]
  },
  {
   "cell_type": "code",
   "execution_count": 26,
   "metadata": {
    "collapsed": false
   },
   "outputs": [
    {
     "data": {
      "text/plain": [
       "GaussianNB(priors=None)"
      ]
     },
     "execution_count": 26,
     "metadata": {},
     "output_type": "execute_result"
    }
   ],
   "source": [
    "# Naive Bayes\n",
    "nb_clf = GaussianNB()\n",
    "nb_clf.partial_fit(X_train, y_train, np.unique(y_train))"
   ]
  },
  {
   "cell_type": "code",
   "execution_count": 27,
   "metadata": {
    "collapsed": false
   },
   "outputs": [
    {
     "name": "stdout",
     "output_type": "stream",
     "text": [
      "Accuracy: 47.92%\n"
     ]
    }
   ],
   "source": [
    "y_pred = nb_clf.predict(X_test)\n",
    "predictions = [round(value) for value in y_pred]\n",
    "accuracy = accuracy_score(y_test, predictions)\n",
    "print(\"Accuracy: %.2f%%\" % (accuracy * 100.0))"
   ]
  },
  {
   "cell_type": "code",
   "execution_count": null,
   "metadata": {
    "collapsed": true
   },
   "outputs": [],
   "source": []
  },
  {
   "cell_type": "code",
   "execution_count": null,
   "metadata": {
    "collapsed": true
   },
   "outputs": [],
   "source": []
  },
  {
   "cell_type": "code",
   "execution_count": 31,
   "metadata": {
    "collapsed": true
   },
   "outputs": [],
   "source": [
    "from sklearn.linear_model import Ridge, RidgeCV, ElasticNet, LassoCV, LassoLarsCV\n",
    "from sklearn.model_selection import cross_val_score\n",
    "\n",
    "def rmse_cv(model):\n",
    "    rmse= np.sqrt(-cross_val_score(model, X_train, y_train, scoring=\"neg_mean_squared_error\", cv = 5))\n",
    "    return(rmse)"
   ]
  },
  {
   "cell_type": "code",
   "execution_count": 32,
   "metadata": {
    "collapsed": true
   },
   "outputs": [],
   "source": [
    "model_ridge = Ridge()"
   ]
  },
  {
   "cell_type": "code",
   "execution_count": 33,
   "metadata": {
    "collapsed": false
   },
   "outputs": [],
   "source": [
    "alphas = [0.05, 0.1, 0.3, 1, 3, 5, 10, 15, 30, 50, 75]\n",
    "cv_ridge = [rmse_cv(Ridge(alpha = alpha)).mean() \n",
    "            for alpha in alphas]"
   ]
  },
  {
   "cell_type": "code",
   "execution_count": 38,
   "metadata": {
    "collapsed": false
   },
   "outputs": [
    {
     "data": {
      "text/plain": [
       "<matplotlib.text.Text at 0x1153327f0>"
      ]
     },
     "execution_count": 38,
     "metadata": {},
     "output_type": "execute_result"
    },
    {
     "data": {
      "image/png": "[encoded data removed]",
      "text/plain": [
       "<matplotlib.figure.Figure at 0x1152cbb00>"
      ]
     },
     "metadata": {
      "image/png": {
       "height": 390,
       "width": 560
      }
     },
     "output_type": "display_data"
    }
   ],
   "source": [
    "cv_ridge = pd.Series(cv_ridge, index = alphas)\n",
    "cv_ridge.plot(title = \"Validation\")\n",
    "plt.xlabel(\"alpha\")\n",
    "plt.ylabel(\"rmse\")"
   ]
  },
  {
   "cell_type": "code",
   "execution_count": null,
   "metadata": {
    "collapsed": true
   },
   "outputs": [],
   "source": []
  }
 ],
 "metadata": {
  "anaconda-cloud": {},
  "kernelspec": {
   "display_name": "Python [default]",
   "language": "python",
   "name": "python3"
  },
  "language_info": {
   "codemirror_mode": {
    "name": "ipython",
    "version": 3
   },
   "file_extension": ".py",
   "mimetype": "text/x-python",
   "name": "python",
   "nbconvert_exporter": "python",
   "pygments_lexer": "ipython3",
   "version": "3.5.2"
  }
 },
 "nbformat": 4,
 "nbformat_minor": 1
}
