{
 "cells": [
  {
   "cell_type": "code",
   "execution_count": 1,
   "metadata": {
    "collapsed": true
   },
   "outputs": [],
   "source": [
    "import pandas as pd\n",
    "import numpy as np\n",
    "import random\n",
    "import itertools\n",
    "import seaborn as sns\n",
    "import matplotlib.pyplot as plt\n",
    "from fancyimpute import KNN, NuclearNormMinimization\n",
    "\n",
    "%matplotlib inline\n",
    "%config InlineBackend.figure_format = 'retina'"
   ]
  },
  {
   "cell_type": "code",
   "execution_count": 2,
   "metadata": {
    "collapsed": true
   },
   "outputs": [],
   "source": [
    "from imblearn.under_sampling import *\n",
    "\n",
    "from xgboost import XGBClassifier\n",
    "from sklearn import svm\n",
    "from sklearn import preprocessing\n",
    "from sklearn.naive_bayes import GaussianNB\n",
    "from sklearn.ensemble import RandomForestClassifier, VotingClassifier\n",
    "\n",
    "from sklearn.linear_model import ElasticNet, ElasticNetCV, LogisticRegression\n",
    "from sklearn.model_selection import cross_val_predict\n",
    "from sklearn.model_selection import train_test_split\n",
    "from sklearn.model_selection import StratifiedShuffleSplit\n",
    "from sklearn.model_selection import GridSearchCV, cross_val_score, KFold"
   ]
  },
  {
   "cell_type": "code",
   "execution_count": 3,
   "metadata": {
    "collapsed": true
   },
   "outputs": [],
   "source": [
    "from scipy import interp\n",
    "from itertools import cycle\n",
    "from sklearn.metrics import roc_curve, auc, confusion_matrix, classification_report, accuracy_score, roc_auc_score\n",
    "from sklearn.model_selection import StratifiedKFold"
   ]
  },
  {
   "cell_type": "code",
   "execution_count": 4,
   "metadata": {
    "collapsed": true
   },
   "outputs": [],
   "source": [
    "df_adult = pd.read_excel('2017-06-28_ABDoseAdult_MW-v4.xlsx')\n",
    "df       = pd.read_excel('2017-06-28_ABDoseAdult_MW-v4.xlsx')\n",
    "\n",
    "df_adult['fu48_clinical_outcome'] = df_adult['fu48_clinical_outcome'].replace(3,2)\n",
    "df_adult['fu48_clinical_outcome'] = df_adult['fu48_clinical_outcome'].replace(4,3)\n",
    "\n",
    "df_neat = pd.read_csv('Adult_copy_sample.csv')\n",
    "df_neat = df_neat.iloc[:,2:]\n",
    "df_neat = df_neat.iloc[:,:191]"
   ]
  },
  {
   "cell_type": "markdown",
   "metadata": {},
   "source": [
    "# Classify success/failure"
   ]
  },
  {
   "cell_type": "code",
   "execution_count": 5,
   "metadata": {
    "collapsed": true
   },
   "outputs": [],
   "source": [
    "df_fu_48 = df_adult.iloc[:,163:849]\n",
    "df_fu_48 = df_fu_48.drop(['fu48_los'], axis=1)\n",
    "\n",
    "df_fu_48 = pd.concat([df_neat,\n",
    "                      df_adult['apache'],\n",
    "                      df_fu_48],axis=1)\n",
    "\n",
    "drop_dict = ['hospadmin_egfr',\n",
    "             'baseline_egfr',\n",
    "             'sd1_warfarin_yn',\n",
    "             'sd1_egfr_60',\n",
    "             'sd1_egfr',\n",
    "             'sd2_warfarin_yn',\n",
    "             'sd2_egfr_60',\n",
    "             'sd2_egfr',\n",
    "             'other_no_of_doses']\n",
    "\n",
    "for column in drop_dict:\n",
    "    df_fu_48 = df_fu_48.drop([column], axis=1)"
   ]
  },
  {
   "cell_type": "code",
   "execution_count": 6,
   "metadata": {
    "collapsed": true
   },
   "outputs": [],
   "source": [
    "for column in df_fu_48:\n",
    "    if  df_fu_48[column].isnull().sum()/len(df_fu_48) > 0.5:\n",
    "        df_fu_48 = df_fu_48.drop([column], axis=1)\n",
    "        \n",
    "df_object = df_fu_48.select_dtypes(include=['object'])\n",
    "df_fu_48 = df_fu_48.select_dtypes(exclude=['object'])"
   ]
  },
  {
   "cell_type": "code",
   "execution_count": 7,
   "metadata": {
    "collapsed": true
   },
   "outputs": [],
   "source": [
    "def onehot_column(df, column_name):\n",
    "    dummies = pd.get_dummies(df[column_name], prefix = column_name)\n",
    "    return dummies\n",
    "\n",
    "cat_dict = ['sd1_vent',\n",
    "            'sd1_gcs_eyes',\n",
    "            'sd1_gcs_voice',\n",
    "            'sd1_gcs_move',\n",
    "            'sd1_abg_source',\n",
    "            'sd2_vent',\n",
    "            'sd2_gcs_eyes',\n",
    "            'sd2_gcs_voice',\n",
    "            'sd2_gcs_move',\n",
    "            'sd2_abg_source']\n",
    "\n",
    "for item in cat_dict:\n",
    "    df_fu_48 = pd.concat([df_fu_48, onehot_column(df_fu_48, item)],axis=1)\n",
    "    df_fu_48 = df_fu_48.drop([item],axis=1)"
   ]
  },
  {
   "cell_type": "code",
   "execution_count": 8,
   "metadata": {
    "collapsed": true
   },
   "outputs": [],
   "source": [
    "df_fu_48['fu48_clinical_outcome'] = df_fu_48['fu48_clinical_outcome'].replace(1,0)\n",
    "df_fu_48['fu48_clinical_outcome'] = df_fu_48['fu48_clinical_outcome'].replace(2,1)\n",
    "df_fu_48['fu48_clinical_outcome'] = df_fu_48['fu48_clinical_outcome'].replace(3,1)"
   ]
  },
  {
   "cell_type": "code",
   "execution_count": 44,
   "metadata": {},
   "outputs": [
    {
     "name": "stdout",
     "output_type": "stream",
     "text": [
      "----------------------------------------------------------------------------\n",
      "\tSCS v1.2.6 - Splitting Conic Solver\n",
      "\t(c) Brendan O'Donoghue, Stanford University, 2012-2016\n",
      "----------------------------------------------------------------------------\n",
      "Lin-sys: sparse-indirect, nnz in A = 849140, CG tol ~ 1/iter^(2.00)\n",
      "eps = 1.00e-03, alpha = 1.50, max_iters = 2500, normalize = 1, scale = 1.00\n",
      "Variables n = 415273, constraints m = 531337\n",
      "Cones:\tprimal zero / dual free vars: 207363\n",
      "\tlinear vars: 174096\n",
      "\tsd vars: 149878, sd blks: 1\n",
      "Setup time: 5.63e-02s\n",
      "----------------------------------------------------------------------------\n",
      " Iter | pri res | dua res | rel gap | pri obj | dua obj | kap/tau | time (s)\n",
      "----------------------------------------------------------------------------\n",
      "     0|      inf       inf       nan      -inf       inf       inf  3.50e-01 \n",
      "   100| 6.59e-03  3.68e-03  5.97e-04  6.61e+04  6.62e+04  1.04e-11  2.72e+01 \n",
      "   200| 2.18e-03  5.76e-04  3.11e-04  6.63e+04  6.63e+04  1.08e-11  4.79e+01 \n",
      "   300| 1.38e-03  3.32e-04  1.75e-04  6.64e+04  6.64e+04  1.11e-11  6.84e+01 \n",
      "   400| 1.04e-03  2.87e-04  1.33e-04  6.65e+04  6.65e+04  3.37e-11  8.94e+01 \n",
      "   420| 9.97e-04  2.98e-04  1.27e-04  6.65e+04  6.65e+04  1.13e-11  9.41e+01 \n",
      "----------------------------------------------------------------------------\n",
      "Status: Solved\n",
      "Timing: Solve time: 9.41e+01s\n",
      "\tLin-sys: avg # CG iterations: 4.99, avg solve time: 6.68e-02s\n",
      "\tCones: avg projection time: 1.43e-01s\n",
      "----------------------------------------------------------------------------\n",
      "Error metrics:\n",
      "dist(s, K) = 7.0759e-07, dist(y, K*) = 1.5490e-09, s'y/|s||y| = -3.0908e-12\n",
      "|Ax + s - b|_2 / (1 + |b|_2) = 9.9724e-04\n",
      "|A'y + c|_2 / (1 + |c|_2) = 2.9832e-04\n",
      "|c'x + b'y| / (1 + |c'x| + |b'y|) = 1.2692e-04\n",
      "----------------------------------------------------------------------------\n",
      "c'x = 66465.5837, -b'y = 66482.4576\n",
      "============================================================================\n"
     ]
    }
   ],
   "source": [
    "df_nnm = NuclearNormMinimization().complete(df_fu_48)"
   ]
  },
  {
   "cell_type": "code",
   "execution_count": 45,
   "metadata": {},
   "outputs": [
    {
     "data": {
      "text/plain": [
       "False"
      ]
     },
     "execution_count": 45,
     "metadata": {},
     "output_type": "execute_result"
    }
   ],
   "source": [
    "df_nnm = pd.DataFrame(df_nnm, columns=df_fu_48.columns, index=df_fu_48.index)\n",
    "\n",
    "bmi = df_nnm['weight']/((df_nnm['height']/100)**2)\n",
    "bmi = bmi.to_frame(name='bmi')\n",
    "df_nnm = pd.concat([df_nnm,\n",
    "                    bmi], axis=1)\n",
    "\n",
    "np.any(np.isnan(df_nnm))"
   ]
  },
  {
   "cell_type": "code",
   "execution_count": 46,
   "metadata": {
    "collapsed": true
   },
   "outputs": [],
   "source": [
    "X = df_nnm.drop(['fu48_clinical_outcome'], axis=1)\n",
    "Y = df_nnm['fu48_clinical_outcome']\n",
    "\n",
    "# Normalisation\n",
    "x = X.values\n",
    "min_max_scaler = preprocessing.MinMaxScaler()\n",
    "x_scaled = min_max_scaler.fit_transform(x)\n",
    "X = pd.DataFrame(x_scaled, columns=X.columns)"
   ]
  },
  {
   "cell_type": "code",
   "execution_count": 12,
   "metadata": {
    "collapsed": true
   },
   "outputs": [],
   "source": [
    "clf_xgb = XGBClassifier(learning_rate=0.1,\n",
    "                        subsample=0.5,\n",
    "                        n_estimators=5000,\n",
    "                        min_child_weight=3,\n",
    "                        gamma=0.0,\n",
    "                        reg_alpha=0.01,\n",
    "                        reg_lambda=1,\n",
    "                        max_depth=3,\n",
    "                        colsample_bytree=0.5)"
   ]
  },
  {
   "cell_type": "code",
   "execution_count": 86,
   "metadata": {},
   "outputs": [
    {
     "name": "stdout",
     "output_type": "stream",
     "text": [
      "             precision    recall  f1-score   support\n",
      "\n",
      "        0.0       0.43      0.38      0.40        55\n",
      "        1.0       0.64      0.69      0.66        89\n",
      "\n",
      "avg / total       0.56      0.57      0.56       144\n",
      "\n",
      "0.533605720123\n",
      "0.569444444444\n"
     ]
    }
   ],
   "source": [
    "y_pred = cross_val_predict(clf_xgb, X, Y, cv=5)\n",
    "print(classification_report(Y, y_pred))\n",
    "print(roc_auc_score(Y, y_pred))\n",
    "print((y_pred==Y).sum()/144)"
   ]
  },
  {
   "cell_type": "code",
   "execution_count": 13,
   "metadata": {
    "collapsed": true
   },
   "outputs": [],
   "source": [
    "clf_rf = RandomForestClassifier(bootstrap=False, \n",
    "                                min_samples_leaf=20, \n",
    "                                criterion='gini', \n",
    "                                min_samples_split=5, \n",
    "                                max_depth=3, \n",
    "                                n_estimators=100,\n",
    "                                max_features='auto')"
   ]
  },
  {
   "cell_type": "code",
   "execution_count": 107,
   "metadata": {},
   "outputs": [
    {
     "name": "stdout",
     "output_type": "stream",
     "text": [
      "             precision    recall  f1-score   support\n",
      "\n",
      "        0.0       0.80      0.07      0.13        55\n",
      "        1.0       0.63      0.99      0.77        89\n",
      "\n",
      "avg / total       0.70      0.64      0.53       144\n",
      "\n",
      "0.530745658836\n",
      "0.638888888889\n"
     ]
    }
   ],
   "source": [
    "y_pred = cross_val_predict(clf_rf, X, Y, cv=5)\n",
    "print(classification_report(Y, y_pred))\n",
    "print(roc_auc_score(Y, y_pred))\n",
    "print((y_pred==Y).sum()/144)"
   ]
  },
  {
   "cell_type": "code",
   "execution_count": 18,
   "metadata": {
    "collapsed": true
   },
   "outputs": [],
   "source": [
    "clf_svm = svm.SVC(class_weight='balanced',\n",
    "                  kernel='rbf',\n",
    "                  C=1.6406707120152759,\n",
    "                  gamma=0.092874643071059373,\n",
    "                  probability=True)"
   ]
  },
  {
   "cell_type": "code",
   "execution_count": 120,
   "metadata": {},
   "outputs": [
    {
     "name": "stdout",
     "output_type": "stream",
     "text": [
      "             precision    recall  f1-score   support\n",
      "\n",
      "        0.0       0.25      0.02      0.03        55\n",
      "        1.0       0.61      0.97      0.75        89\n",
      "\n",
      "avg / total       0.48      0.60      0.48       144\n",
      "\n",
      "0.492236976507\n",
      "0.604166666667\n"
     ]
    }
   ],
   "source": [
    "y_pred = cross_val_predict(clf_svm, X, Y, cv=5)\n",
    "print(classification_report(Y, y_pred))\n",
    "print(roc_auc_score(Y, y_pred))\n",
    "print((y_pred==Y).sum()/144)"
   ]
  },
  {
   "cell_type": "code",
   "execution_count": 15,
   "metadata": {
    "collapsed": true
   },
   "outputs": [],
   "source": [
    "clf_lr = LogisticRegression(penalty='l2', \n",
    "                            dual=True, \n",
    "                            C=1000,\n",
    "                            tol=0.0001,\n",
    "                            fit_intercept=False,\n",
    "                            intercept_scaling=1, \n",
    "                            random_state=None, \n",
    "                            solver='liblinear', \n",
    "                            max_iter=100, \n",
    "                            multi_class='ovr', \n",
    "                            verbose=0, \n",
    "                            warm_start=False, \n",
    "                            n_jobs=1)"
   ]
  },
  {
   "cell_type": "code",
   "execution_count": 240,
   "metadata": {},
   "outputs": [
    {
     "name": "stdout",
     "output_type": "stream",
     "text": [
      "             precision    recall  f1-score   support\n",
      "\n",
      "        0.0       0.37      0.42      0.39        55\n",
      "        1.0       0.61      0.56      0.58        89\n",
      "\n",
      "avg / total       0.52      0.51      0.51       144\n",
      "\n",
      "0.489989785495\n",
      "0.506944444444\n"
     ]
    }
   ],
   "source": [
    "y_pred = cross_val_predict(clf_lr, X, Y, cv=5)\n",
    "print(classification_report(Y, y_pred))\n",
    "print(roc_auc_score(Y, y_pred))\n",
    "print((y_pred==Y).sum()/144)"
   ]
  },
  {
   "cell_type": "code",
   "execution_count": 16,
   "metadata": {
    "collapsed": true
   },
   "outputs": [],
   "source": [
    "eclf1 = VotingClassifier(estimators=[('xgb', clf_xgb), \n",
    "                                     ('lr',  clf_lr),\n",
    "                                     ('rf', clf_rf)],\n",
    "                         voting='soft',\n",
    "                         weights=[20,-2,1])"
   ]
  },
  {
   "cell_type": "code",
   "execution_count": 51,
   "metadata": {},
   "outputs": [
    {
     "name": "stdout",
     "output_type": "stream",
     "text": [
      "             precision    recall  f1-score   support\n",
      "\n",
      "        0.0       0.40      0.38      0.39        55\n",
      "        1.0       0.63      0.65      0.64        89\n",
      "\n",
      "avg / total       0.54      0.55      0.55       144\n",
      "\n",
      "0.516751787538\n",
      "0.548611111111\n"
     ]
    }
   ],
   "source": [
    "y_pred = cross_val_predict(eclf1, X, Y, cv=5)\n",
    "print(classification_report(Y, y_pred))\n",
    "print(roc_auc_score(Y, y_pred))\n",
    "print((y_pred==Y).sum()/144)"
   ]
  },
  {
   "cell_type": "code",
   "execution_count": 23,
   "metadata": {},
   "outputs": [
    {
     "data": {
      "image/png": "[encoded data removed]",
      "text/plain": [
       "<matplotlib.figure.Figure at 0x11ab6f8d0>"
      ]
     },
     "metadata": {
      "image/png": {
       "height": 359,
       "width": 523
      }
     },
     "output_type": "display_data"
    }
   ],
   "source": [
    "colors = ['#3f7f93', '#7ba7b5', '#d58a76', '#c25539', '#5a445e']\n",
    "\n",
    "fpr_lr, tpr_lr, _ = roc_curve(Y, cross_val_predict(clf_lr, X, Y, cv=5, method='predict_proba')[:,1])\n",
    "lr_auc = auc(fpr_lr, tpr_lr)\n",
    "fpr_svm, tpr_svm, _ = roc_curve(Y, cross_val_predict(clf_svm, X, Y, cv=5, method='predict_proba')[:,1])\n",
    "svm_auc = auc(fpr_svm, tpr_svm)\n",
    "fpr_rf, tpr_rf, _ = roc_curve(Y, cross_val_predict(clf_rf, X, Y, cv=5, method='predict_proba')[:,1])\n",
    "rf_auc = auc(fpr_rf, tpr_rf)\n",
    "fpr_xgb, tpr_xgb, _ = roc_curve(Y, cross_val_predict(clf_xgb, X, Y, cv=5, method='predict_proba')[:,1])\n",
    "xgb_auc = auc(fpr_xgb, tpr_xgb)\n",
    "fpr_en, tpr_en, _ = roc_curve(Y, cross_val_predict(eclf1, X, Y, cv=5, method='predict_proba')[:,1])\n",
    "en_auc = auc(fpr_en, tpr_en)\n",
    "\n",
    "plt.plot([0, 1], [0, 1], linestyle='--',color='k', label='Luck')\n",
    "plt.plot(fpr_lr, tpr_lr, color=colors[0],   label='LR (area = %0.2f)' % (lr_auc))\n",
    "plt.plot(fpr_svm, tpr_svm, color=colors[1], label='SVM (area = %0.2f)' % (svm_auc))\n",
    "plt.plot(fpr_rf, tpr_rf, color=colors[2],   label='RF (area = %0.2f)' % (rf_auc))\n",
    "plt.plot(fpr_xgb, tpr_xgb, color=colors[3], label='XGB (area = %0.2f)' % (xgb_auc))\n",
    "plt.plot(fpr_en, tpr_en, color=colors[4],   label='Ensemble (area = %0.2f)' % (en_auc))\n",
    "\n",
    "plt.legend(loc=\"lower right\")\n",
    "plt.savefig('sf_48.pdf')"
   ]
  },
  {
   "cell_type": "code",
   "execution_count": null,
   "metadata": {
    "collapsed": true
   },
   "outputs": [],
   "source": []
  },
  {
   "cell_type": "code",
   "execution_count": null,
   "metadata": {
    "collapsed": true
   },
   "outputs": [],
   "source": []
  },
  {
   "cell_type": "code",
   "execution_count": null,
   "metadata": {
    "collapsed": true
   },
   "outputs": [],
   "source": []
  },
  {
   "cell_type": "code",
   "execution_count": null,
   "metadata": {
    "collapsed": true
   },
   "outputs": [],
   "source": []
  },
  {
   "cell_type": "code",
   "execution_count": null,
   "metadata": {
    "collapsed": true
   },
   "outputs": [],
   "source": []
  },
  {
   "cell_type": "code",
   "execution_count": null,
   "metadata": {
    "collapsed": true
   },
   "outputs": [],
   "source": []
  },
  {
   "cell_type": "code",
   "execution_count": null,
   "metadata": {
    "collapsed": true
   },
   "outputs": [],
   "source": []
  },
  {
   "cell_type": "markdown",
   "metadata": {},
   "source": [
    "# Elastic Net"
   ]
  },
  {
   "cell_type": "code",
   "execution_count": 47,
   "metadata": {},
   "outputs": [
    {
     "name": "stderr",
     "output_type": "stream",
     "text": [
      "//anaconda/lib/python3.5/site-packages/sklearn/linear_model/coordinate_descent.py:484: ConvergenceWarning: Objective did not converge. You might want to increase the number of iterations. Fitting data with very small alpha may cause precision problems.\n",
      "  ConvergenceWarning)\n"
     ]
    },
    {
     "data": {
      "text/plain": [
       "ElasticNetCV(alphas=None, copy_X=True, cv=5, eps=0.001, fit_intercept=False,\n",
       "       l1_ratio=0.5, max_iter=1000, n_alphas=100, n_jobs=1,\n",
       "       normalize=False, positive=False, precompute='auto',\n",
       "       random_state=None, selection='cyclic', tol=0.0001, verbose=0)"
      ]
     },
     "execution_count": 47,
     "metadata": {},
     "output_type": "execute_result"
    }
   ],
   "source": [
    "model_EN = ElasticNetCV(copy_X=True,\n",
    "                        cv=5, \n",
    "                        eps=0.001, \n",
    "                        fit_intercept=False,\n",
    "                        l1_ratio=0.5, \n",
    "                        max_iter=1000, \n",
    "                        n_alphas=100, \n",
    "                        n_jobs=1,\n",
    "                        normalize=False, \n",
    "                        positive=False, \n",
    "                        precompute='auto',\n",
    "                        random_state=None, \n",
    "                        selection='cyclic', \n",
    "                        tol=0.0001, \n",
    "                        verbose=0)\n",
    "\n",
    "model_EN.fit(X, Y)"
   ]
  },
  {
   "cell_type": "code",
   "execution_count": 48,
   "metadata": {},
   "outputs": [
    {
     "name": "stdout",
     "output_type": "stream",
     "text": [
      "Elastic Net picked 18 variables and eliminated the other 385 variables\n"
     ]
    }
   ],
   "source": [
    "coef_EN = pd.Series(model_EN.coef_, index = X.columns)\n",
    "print(\"Elastic Net picked \" + str(sum(coef_EN!=0)) + \" variables and eliminated the other \" +\\\n",
    "      str(sum(coef_EN==0)) + \" variables\")"
   ]
  },
  {
   "cell_type": "code",
   "execution_count": 49,
   "metadata": {
    "collapsed": true
   },
   "outputs": [],
   "source": [
    "cols = coef_EN[coef_EN!=0].index\n",
    "X    = X[cols]"
   ]
  },
  {
   "cell_type": "code",
   "execution_count": 216,
   "metadata": {},
   "outputs": [
    {
     "name": "stdout",
     "output_type": "stream",
     "text": [
      "Iter 1 /10 finished\n",
      "Iter 2 /10 finished\n",
      "Iter 3 /10 finished\n",
      "Iter 4 /10 finished\n",
      "Iter 5 /10 finished\n",
      "Iter 6 /10 finished\n",
      "Iter 7 /10 finished\n",
      "Iter 8 /10 finished\n",
      "Iter 9 /10 finished\n",
      "Iter 10 /10 finished\n",
      "Average difference of 0.037108 with std. dev. of 0.031162.\n",
      "The best parameters are {'gamma': 0.0078125, 'C': 512.0} with a score of 0.79\n"
     ]
    }
   ],
   "source": [
    "# SVM\n",
    "NUM_TRIALS = 10\n",
    "\n",
    "C_range = np.logspace(-5, 15, 11, base=2.0)\n",
    "gamma_range = np.logspace(-15, 3, 10, base=2.0) # amendable\n",
    "\n",
    "p_grid = dict(gamma=gamma_range, C=C_range)\n",
    "\n",
    "svr = svm.SVC(kernel=\"rbf\",\n",
    "              class_weight='balanced',\n",
    "              probability=True)\n",
    "\n",
    "non_nested_scores = np.zeros(NUM_TRIALS)\n",
    "nested_scores = np.zeros(NUM_TRIALS)\n",
    "\n",
    "for i in range(NUM_TRIALS):\n",
    "\n",
    "    inner_cv = KFold(n_splits=5, shuffle=True, random_state=i)\n",
    "    outer_cv = KFold(n_splits=5, shuffle=True, random_state=i)\n",
    "\n",
    "    # Non_nested parameter search and scoring\n",
    "    clf = GridSearchCV(estimator=svr, param_grid=p_grid, cv=inner_cv)\n",
    "    clf.fit(X, Y)\n",
    "    non_nested_scores[i] = clf.best_score_\n",
    "\n",
    "    # Nested CV with parameter optimization\n",
    "    nested_score = cross_val_score(clf, X=X, y=Y, cv=outer_cv)\n",
    "    nested_scores[i] = nested_score.mean()\n",
    "    print('Iter', i+1,'/10 finished')\n",
    "\n",
    "score_difference = non_nested_scores - nested_scores\n",
    "\n",
    "print(\"Average difference of {0:6f} with std. dev. of {1:6f}.\"\n",
    "      .format(score_difference.mean(), score_difference.std()))\n",
    "\n",
    "print(\"The best parameters are %s with a score of %0.2f\"\n",
    "       % (clf.best_params_, clf.best_score_))"
   ]
  },
  {
   "cell_type": "code",
   "execution_count": 219,
   "metadata": {},
   "outputs": [
    {
     "name": "stdout",
     "output_type": "stream",
     "text": [
      "The best parameters are {'min_samples_split': 2, 'min_samples_leaf': 10, 'max_depth': 2, 'criterion': 'gini'} with a score of 0.75\n"
     ]
    }
   ],
   "source": [
    "# Random Forest\n",
    "p_grid = {\"max_depth\": [2, 3, 5],\n",
    "          \"min_samples_split\": [2, 5],\n",
    "          \"min_samples_leaf\": [10, 20, 50, 100],\n",
    "          \"criterion\": [\"gini\", \"entropy\"]}\n",
    "\n",
    "rf = RandomForestClassifier(class_weight='balanced',\n",
    "                            bootstrap=False,\n",
    "                            n_estimators=300,\n",
    "                            max_features='auto')\n",
    "\n",
    "inner_cv = KFold(n_splits=5, shuffle=True)\n",
    "clf = GridSearchCV(estimator=rf, param_grid=p_grid, cv=inner_cv)\n",
    "clf.fit(X, Y)\n",
    "\n",
    "print(\"The best parameters are %s with a score of %0.2f\"\n",
    "       % (clf.best_params_, clf.best_score_))"
   ]
  },
  {
   "cell_type": "code",
   "execution_count": 258,
   "metadata": {},
   "outputs": [
    {
     "name": "stdout",
     "output_type": "stream",
     "text": [
      "The best parameters are {'colsample_bytree': 0.5, 'gamma': 0.0, 'learning_rate': 0.05, 'max_depth': 3, 'subsample': 0.5, 'min_child_weight': 1} with a score of 0.80\n"
     ]
    }
   ],
   "source": [
    "# XGBoost\n",
    "p_grid = {\"learning_rate\": [0.01, 0.05, 0.1, 0.2],\n",
    "          \"max_depth\": [3],\n",
    "          \"min_child_weight\": [1, 2, 3, 5],\n",
    "          \"gamma\": [0.0, 0.01, 0.1, 1],\n",
    "          \"subsample\": [0.5, 0.7, 1.0],\n",
    "          \"colsample_bytree\": [0.5, 0.7, 1]}\n",
    "\n",
    "clf_xgb = XGBClassifier(n_estimators=100,\n",
    "                        scale_pos_weight=1.62)\n",
    "\n",
    "inner_cv = KFold(n_splits=5, shuffle=True)\n",
    "clf = GridSearchCV(estimator=clf_xgb, param_grid=p_grid, cv=inner_cv)\n",
    "clf.fit(X, Y)\n",
    "\n",
    "print(\"The best parameters are %s with a score of %0.2f\"\n",
    "       % (clf.best_params_, clf.best_score_))"
   ]
  },
  {
   "cell_type": "code",
   "execution_count": 33,
   "metadata": {
    "collapsed": true
   },
   "outputs": [],
   "source": [
    "clf_svm = svm.SVC(class_weight='balanced',\n",
    "                  kernel='rbf',\n",
    "                  C=512.0,\n",
    "                  gamma=0.0078125,\n",
    "                  probability=True)"
   ]
  },
  {
   "cell_type": "code",
   "execution_count": 218,
   "metadata": {},
   "outputs": [
    {
     "name": "stdout",
     "output_type": "stream",
     "text": [
      "             precision    recall  f1-score   support\n",
      "\n",
      "        0.0       0.83      0.79      0.81        89\n",
      "        1.0       0.57      0.64      0.60        39\n",
      "\n",
      "avg / total       0.75      0.74      0.75       128\n",
      "\n",
      "0.713771247479\n",
      "0.659722222222\n"
     ]
    }
   ],
   "source": [
    "y_pred = cross_val_predict(clf_svm, X, Y, cv=5)\n",
    "print(classification_report(Y, y_pred))\n",
    "print(roc_auc_score(Y, y_pred))\n",
    "print((y_pred==Y).sum()/144)"
   ]
  },
  {
   "cell_type": "code",
   "execution_count": 34,
   "metadata": {
    "collapsed": true
   },
   "outputs": [],
   "source": [
    "clf_rf = RandomForestClassifier(bootstrap=False, \n",
    "                                min_samples_leaf=3, \n",
    "                                criterion='gini', \n",
    "                                min_samples_split=2, \n",
    "                                max_depth=3, \n",
    "                                n_estimators=300,\n",
    "                                max_features='auto')"
   ]
  },
  {
   "cell_type": "code",
   "execution_count": 241,
   "metadata": {},
   "outputs": [
    {
     "name": "stdout",
     "output_type": "stream",
     "text": [
      "             precision    recall  f1-score   support\n",
      "\n",
      "        0.0       0.81      0.94      0.87        89\n",
      "        1.0       0.79      0.49      0.60        39\n",
      "\n",
      "avg / total       0.80      0.80      0.79       128\n",
      "\n",
      "0.715499855949\n",
      "0.715277777778\n"
     ]
    }
   ],
   "source": [
    "y_pred = cross_val_predict(clf_rf, X, Y, cv=5)\n",
    "print(classification_report(Y, y_pred))\n",
    "print(roc_auc_score(Y, y_pred))\n",
    "print((y_pred==Y).sum()/144)"
   ]
  },
  {
   "cell_type": "code",
   "execution_count": 35,
   "metadata": {
    "collapsed": true
   },
   "outputs": [],
   "source": [
    "clf_lr = LogisticRegression(penalty='l2', \n",
    "                            dual=True, \n",
    "                            C=1,\n",
    "                            tol=0.0001,\n",
    "                            fit_intercept=False,\n",
    "                            intercept_scaling=1, \n",
    "                            random_state=None, \n",
    "                            solver='liblinear', \n",
    "                            max_iter=100, \n",
    "                            multi_class='ovr', \n",
    "                            verbose=0, \n",
    "                            warm_start=False, \n",
    "                            n_jobs=1)"
   ]
  },
  {
   "cell_type": "code",
   "execution_count": 257,
   "metadata": {},
   "outputs": [
    {
     "name": "stdout",
     "output_type": "stream",
     "text": [
      "             precision    recall  f1-score   support\n",
      "\n",
      "        0.0       0.79      0.81      0.80        89\n",
      "        1.0       0.54      0.51      0.53        39\n",
      "\n",
      "avg / total       0.71      0.72      0.72       128\n",
      "\n",
      "0.660904638433\n",
      "0.638888888889\n"
     ]
    }
   ],
   "source": [
    "y_pred = cross_val_predict(clf_lr, X, Y, cv=5)\n",
    "print(classification_report(Y, y_pred))\n",
    "print(roc_auc_score(Y, y_pred))\n",
    "print((y_pred==Y).sum()/144)"
   ]
  },
  {
   "cell_type": "code",
   "execution_count": 36,
   "metadata": {
    "collapsed": true
   },
   "outputs": [],
   "source": [
    "clf_xgb = XGBClassifier(learning_rate=0.01,\n",
    "                           subsample=0.5,\n",
    "                           n_estimators=100,\n",
    "                           min_child_weight=2,\n",
    "                           scale_pos_weight=1.62,\n",
    "                           reg_alpha=0,\n",
    "                           reg_lambda=1,\n",
    "                           max_depth=3,\n",
    "                           colsample_bytree=0.5)"
   ]
  },
  {
   "cell_type": "code",
   "execution_count": 290,
   "metadata": {},
   "outputs": [
    {
     "name": "stdout",
     "output_type": "stream",
     "text": [
      "             precision    recall  f1-score   support\n",
      "\n",
      "        0.0       0.83      0.88      0.85        89\n",
      "        1.0       0.68      0.59      0.63        39\n",
      "\n",
      "avg / total       0.78      0.79      0.78       128\n",
      "\n",
      "0.733074042063\n",
      "0.701388888889\n"
     ]
    }
   ],
   "source": [
    "y_pred = cross_val_predict(clf_xgb, X, Y, cv=5)\n",
    "print(classification_report(Y, y_pred))\n",
    "print(roc_auc_score(Y, y_pred))\n",
    "print((y_pred==Y).sum()/144)"
   ]
  },
  {
   "cell_type": "code",
   "execution_count": 37,
   "metadata": {
    "collapsed": true
   },
   "outputs": [],
   "source": [
    "eclf1 = VotingClassifier(estimators=[('xgb', clf_xgb), \n",
    "                                     ('lr',  clf_lr),\n",
    "                                     ('rf', clf_rf),\n",
    "                                     ('svm', clf_svm)],\n",
    "                         voting='soft',\n",
    "                         weights=[7,1,1,1])"
   ]
  },
  {
   "cell_type": "code",
   "execution_count": 318,
   "metadata": {},
   "outputs": [
    {
     "name": "stdout",
     "output_type": "stream",
     "text": [
      "             precision    recall  f1-score   support\n",
      "\n",
      "        0.0       0.83      0.93      0.88        89\n",
      "        1.0       0.79      0.56      0.66        39\n",
      "\n",
      "avg / total       0.82      0.82      0.81       128\n",
      "\n",
      "0.748343416883\n",
      "0.729166666667\n"
     ]
    }
   ],
   "source": [
    "y_pred = cross_val_predict(eclf1, X, Y, cv=5)\n",
    "print(classification_report(Y, y_pred))\n",
    "print(roc_auc_score(Y, y_pred))\n",
    "print((y_pred==Y).sum()/144)"
   ]
  },
  {
   "cell_type": "code",
   "execution_count": 50,
   "metadata": {},
   "outputs": [
    {
     "data": {
      "image/png": "[encoded data removed]",
      "text/plain": [
       "<matplotlib.figure.Figure at 0x11ad7bb70>"
      ]
     },
     "metadata": {
      "image/png": {
       "height": 359,
       "width": 523
      }
     },
     "output_type": "display_data"
    }
   ],
   "source": [
    "colors = ['#3f7f93', '#7ba7b5', '#d58a76', '#c25539', '#5a445e']\n",
    "\n",
    "fpr_lr, tpr_lr, _ = roc_curve(Y, cross_val_predict(clf_lr, X, Y, cv=5, method='predict_proba')[:,1])\n",
    "lr_auc = auc(fpr_lr, tpr_lr)\n",
    "fpr_svm, tpr_svm, _ = roc_curve(Y, cross_val_predict(clf_svm, X, Y, cv=5, method='predict_proba')[:,1])\n",
    "svm_auc = auc(fpr_svm, tpr_svm)\n",
    "fpr_rf, tpr_rf, _ = roc_curve(Y, cross_val_predict(clf_rf, X, Y, cv=5, method='predict_proba')[:,1])\n",
    "rf_auc = auc(fpr_rf, tpr_rf)\n",
    "fpr_xgb, tpr_xgb, _ = roc_curve(Y, cross_val_predict(clf_xgb, X, Y, cv=5, method='predict_proba')[:,1])\n",
    "xgb_auc = auc(fpr_xgb, tpr_xgb)\n",
    "fpr_en, tpr_en, _ = roc_curve(Y, cross_val_predict(eclf1, X, Y, cv=5, method='predict_proba')[:,1])\n",
    "en_auc = auc(fpr_en, tpr_en)\n",
    "\n",
    "plt.plot([0, 1], [0, 1], linestyle='--',color='k', label='Luck')\n",
    "plt.plot(fpr_lr, tpr_lr, color=colors[0],   label='LR (area = %0.2f)' % (lr_auc))\n",
    "plt.plot(fpr_svm, tpr_svm, color=colors[1], label='SVM (area = %0.2f)' % (svm_auc))\n",
    "plt.plot(fpr_rf, tpr_rf, color=colors[2],   label='RF (area = %0.2f)' % (rf_auc))\n",
    "plt.plot(fpr_xgb, tpr_xgb, color=colors[3], label='XGB (area = %0.2f)' % (xgb_auc))\n",
    "plt.plot(fpr_en, tpr_en, color=colors[4],   label='Ensemble (area = %0.2f)' % (en_auc))\n",
    "\n",
    "plt.legend(loc=\"lower right\")\n",
    "plt.savefig('sf_48_fs.pdf')"
   ]
  },
  {
   "cell_type": "code",
   "execution_count": null,
   "metadata": {
    "collapsed": true
   },
   "outputs": [],
   "source": []
  },
  {
   "cell_type": "code",
   "execution_count": null,
   "metadata": {
    "collapsed": true
   },
   "outputs": [],
   "source": []
  },
  {
   "cell_type": "code",
   "execution_count": null,
   "metadata": {
    "collapsed": true
   },
   "outputs": [],
   "source": []
  },
  {
   "cell_type": "markdown",
   "metadata": {
    "collapsed": true
   },
   "source": [
    "# 7 day follow up"
   ]
  },
  {
   "cell_type": "code",
   "execution_count": 51,
   "metadata": {
    "collapsed": true
   },
   "outputs": [],
   "source": [
    "df_fu_7 = df.iloc[:,849:991]\n",
    "df_fu_7 = df_fu_7.drop(['fu7_los'], axis=1)\n",
    "\n",
    "df_fu_7 = pd.concat([df_fu_48,\n",
    "                     df_fu_7],axis=1)\n",
    "\n",
    "drop_dict = ['fu48_cause_of_death',\n",
    "             'fu48_cause_of_death_other',\n",
    "             'fu48_abx_change_other',\n",
    "             'abx_fu48_dose',\n",
    "             'abx_fu48_freq',\n",
    "             'abx_fu48_duration',\n",
    "             'abx2_fu48_yn',\n",
    "             'abx2_fu48_dose',\n",
    "             'abx2_fu48_freq',\n",
    "             'abx2_fu48_duration',\n",
    "             'abx3_fu48_yn',\n",
    "             'abx3_fu48_dose',\n",
    "             'abx3_fu48_freq',\n",
    "             'abx3_fu48_duration',\n",
    "             'abx4_fu48_yn',\n",
    "             'fu48_egfr']\n",
    "\n",
    "for column in drop_dict:\n",
    "    df_fu_7 = df_fu_7.drop([column], axis=1)"
   ]
  },
  {
   "cell_type": "code",
   "execution_count": 52,
   "metadata": {
    "collapsed": true
   },
   "outputs": [],
   "source": [
    "df_fu_7 = df_fu_7.select_dtypes(exclude=['object'])\n",
    "\n",
    "for column in df_fu_7:\n",
    "    if  df_fu_7[column].isnull().sum()/len(df_fu_7)>0.5:\n",
    "        df_fu_7 = df_fu_7.drop([column], axis=1)"
   ]
  },
  {
   "cell_type": "code",
   "execution_count": 53,
   "metadata": {
    "collapsed": true
   },
   "outputs": [],
   "source": [
    "df_fu_7['fu7_clinical_outcome'] = df_fu_7['fu7_clinical_outcome'].replace(1,0)\n",
    "df_fu_7['fu7_clinical_outcome'] = df_fu_7['fu7_clinical_outcome'].replace(2,1)\n",
    "df_fu_7['fu7_clinical_outcome'] = df_fu_7['fu7_clinical_outcome'].replace(3,1)\n",
    "\n",
    "df_fu_7 = df_fu_7.drop(['fu48_clinical_outcome'],axis=1)"
   ]
  },
  {
   "cell_type": "code",
   "execution_count": 54,
   "metadata": {
    "collapsed": true
   },
   "outputs": [],
   "source": [
    "df_fu_7 = pd.concat([df_fu_7,\n",
    "                     df.fu48_clinical_outcome],axis=1)\n",
    "\n",
    "df_fu_7 = df_fu_7.loc[df_fu_7['fu48_clinical_outcome'] != 4]\n",
    "\n",
    "cat_dict = ['abx_fu48',\n",
    "            'abx2_fu48',\n",
    "            'abx3_fu48',\n",
    "            'abx4_fu48',\n",
    "            'fu48_vent',\n",
    "            'fu48_gcs_eyes',\n",
    "            'fu48_gcs_voice',\n",
    "            'fu48_gcs_move',\n",
    "            'fu48_abg_source',\n",
    "            'hour_48_follow_up_complete']\n",
    "\n",
    "for item in cat_dict:\n",
    "    df_fu_7 = pd.concat([df_fu_7, onehot_column(df_fu_7, item)],axis=1)\n",
    "    df_fu_7 = df_fu_7.drop([item],axis=1)"
   ]
  },
  {
   "cell_type": "code",
   "execution_count": 55,
   "metadata": {},
   "outputs": [
    {
     "name": "stdout",
     "output_type": "stream",
     "text": [
      "----------------------------------------------------------------------------\n",
      "\tSCS v1.2.6 - Splitting Conic Solver\n",
      "\t(c) Brendan O'Donoghue, Stanford University, 2012-2016\n",
      "----------------------------------------------------------------------------\n",
      "Lin-sys: sparse-indirect, nnz in A = 1008200, CG tol ~ 1/iter^(2.00)\n",
      "eps = 1.00e-03, alpha = 1.50, max_iters = 2500, normalize = 1, scale = 1.00\n",
      "Variables n = 508857, constraints m = 634553\n",
      "Cones:\tprimal zero / dual free vars: 254119\n",
      "\tlinear vars: 188544\n",
      "\tsd vars: 191890, sd blks: 1\n",
      "Setup time: 1.08e-01s\n",
      "----------------------------------------------------------------------------\n",
      " Iter | pri res | dua res | rel gap | pri obj | dua obj | kap/tau | time (s)\n",
      "----------------------------------------------------------------------------\n",
      "     0|      inf       inf       nan      -inf       inf       inf  9.47e-01 \n",
      "   100| 6.20e-03  3.68e-03  7.95e-04  6.63e+04  6.64e+04  9.74e-12  4.99e+01 \n",
      "   200| 1.99e-03  7.30e-04  2.88e-04  6.64e+04  6.64e+04  3.03e-11  9.50e+01 \n",
      "   300| 1.24e-03  3.15e-04  1.61e-04  6.65e+04  6.65e+04  1.03e-11  1.44e+02 \n",
      "   360| 9.91e-04  2.12e-04  1.29e-04  6.65e+04  6.66e+04  1.04e-11  1.73e+02 \n",
      "----------------------------------------------------------------------------\n",
      "Status: Solved\n",
      "Timing: Solve time: 1.73e+02s\n",
      "\tLin-sys: avg # CG iterations: 4.98, avg solve time: 1.10e-01s\n",
      "\tCones: avg projection time: 3.47e-01s\n",
      "----------------------------------------------------------------------------\n",
      "Error metrics:\n",
      "dist(s, K) = 4.6307e-07, dist(y, K*) = 2.4822e-02, s'y/|s||y| = 3.9753e-13\n",
      "|Ax + s - b|_2 / (1 + |b|_2) = 9.9138e-04\n",
      "|A'y + c|_2 / (1 + |c|_2) = 2.1217e-04\n",
      "|c'x + b'y| / (1 + |c'x| + |b'y|) = 1.2852e-04\n",
      "----------------------------------------------------------------------------\n",
      "c'x = 66539.3606, -b'y = 66556.4662\n",
      "============================================================================\n"
     ]
    }
   ],
   "source": [
    "df_nnm = NuclearNormMinimization().complete(df_fu_7)"
   ]
  },
  {
   "cell_type": "code",
   "execution_count": 56,
   "metadata": {},
   "outputs": [
    {
     "data": {
      "text/plain": [
       "False"
      ]
     },
     "execution_count": 56,
     "metadata": {},
     "output_type": "execute_result"
    }
   ],
   "source": [
    "df_nnm = pd.DataFrame(df_nnm, columns=df_fu_7.columns, index=df_fu_7.index)\n",
    "\n",
    "bmi = df_nnm['weight']/((df_nnm['height']/100)**2)\n",
    "bmi = bmi.to_frame(name='bmi')\n",
    "df_nnm = pd.concat([df_nnm,\n",
    "                    bmi], axis=1)\n",
    "\n",
    "np.any(np.isnan(df_nnm))"
   ]
  },
  {
   "cell_type": "code",
   "execution_count": 57,
   "metadata": {
    "collapsed": true
   },
   "outputs": [],
   "source": [
    "X = df_nnm.drop(['fu7_clinical_outcome'], axis=1)\n",
    "Y = df_nnm['fu7_clinical_outcome']\n",
    "\n",
    "x = X.values\n",
    "min_max_scaler = preprocessing.MinMaxScaler()\n",
    "x_scaled = min_max_scaler.fit_transform(x)\n",
    "X = pd.DataFrame(x_scaled, columns=X.columns)"
   ]
  },
  {
   "cell_type": "code",
   "execution_count": 59,
   "metadata": {},
   "outputs": [
    {
     "name": "stdout",
     "output_type": "stream",
     "text": [
      "Iter 1 /20 finished\n",
      "Iter 2 /20 finished\n",
      "Iter 3 /20 finished\n",
      "Iter 4 /20 finished\n",
      "Iter 5 /20 finished\n",
      "Iter 6 /20 finished\n",
      "Iter 7 /20 finished\n",
      "Iter 8 /20 finished\n",
      "Iter 9 /20 finished\n",
      "Iter 10 /20 finished\n",
      "Iter 11 /20 finished\n",
      "Iter 12 /20 finished\n",
      "Iter 13 /20 finished\n",
      "Iter 14 /20 finished\n",
      "Iter 15 /20 finished\n",
      "Iter 16 /20 finished\n",
      "Iter 17 /20 finished\n",
      "Iter 18 /20 finished\n",
      "Iter 19 /20 finished\n",
      "Iter 20 /20 finished\n",
      "Average difference of 0.040794 with std. dev. of 0.016515.\n",
      "The best parameters are {'C': 0.0001} with a score of 0.70\n"
     ]
    }
   ],
   "source": [
    "# Logistic Regression\n",
    "NUM_TRIALS = 20\n",
    "\n",
    "p_grid = {\"C\": [0.0001, 0.001, 0.01, 0.1, 1.0, 10.0, 100.0, 1000.0]}\n",
    "\n",
    "lr = LogisticRegression(penalty='l2', \n",
    "                        dual=False, \n",
    "                        tol=0.0001,\n",
    "                        fit_intercept=True, \n",
    "                        intercept_scaling=1, \n",
    "                        random_state=None, \n",
    "                        solver='liblinear', \n",
    "                        max_iter=100, \n",
    "                        multi_class='ovr', \n",
    "                        verbose=0, \n",
    "                        warm_start=False, \n",
    "                        n_jobs=1)\n",
    "\n",
    "non_nested_scores = np.zeros(NUM_TRIALS)\n",
    "nested_scores = np.zeros(NUM_TRIALS)\n",
    "\n",
    "for i in range(NUM_TRIALS):\n",
    "\n",
    "    # Choose cross-validation techniques for the inner and outer loops,\n",
    "    # independently of the dataset.\n",
    "    # E.g \"LabelKFold\", \"LeaveOneOut\", \"LeaveOneLabelOut\", etc.\n",
    "    inner_cv = KFold(n_splits=5, shuffle=True, random_state=i)\n",
    "    outer_cv = KFold(n_splits=5, shuffle=True, random_state=i)\n",
    "\n",
    "    # Non_nested parameter search and scoring\n",
    "    clf = GridSearchCV(estimator=lr, param_grid=p_grid, cv=inner_cv)\n",
    "    clf.fit(X, Y)\n",
    "    non_nested_scores[i] = clf.best_score_\n",
    "\n",
    "    # Nested CV with parameter optimization\n",
    "    nested_score = cross_val_score(lr, X=X, y=Y, cv=outer_cv)\n",
    "    nested_scores[i] = nested_score.mean()\n",
    "    print('Iter', i+1,'/20 finished')\n",
    "\n",
    "score_difference = non_nested_scores - nested_scores\n",
    "\n",
    "print(\"Average difference of {0:6f} with std. dev. of {1:6f}.\"\n",
    "      .format(score_difference.mean(), score_difference.std()))\n",
    "\n",
    "print(\"The best parameters are %s with a score of %0.2f\"\n",
    "       % (clf.best_params_, clf.best_score_))"
   ]
  },
  {
   "cell_type": "code",
   "execution_count": 88,
   "metadata": {},
   "outputs": [
    {
     "name": "stdout",
     "output_type": "stream",
     "text": [
      "Iter 1 /10 finished\n",
      "Iter 2 /10 finished\n",
      "Iter 3 /10 finished\n",
      "Iter 4 /10 finished\n",
      "Iter 5 /10 finished\n",
      "Iter 6 /10 finished\n",
      "Iter 7 /10 finished\n",
      "Iter 8 /10 finished\n",
      "Iter 9 /10 finished\n",
      "Iter 10 /10 finished\n",
      "Average difference of 0.028828 with std. dev. of 0.020621.\n",
      "The best parameters are {'gamma': 0.03125, 'C': 2.0} with a score of 0.73\n"
     ]
    }
   ],
   "source": [
    "# SVM\n",
    "NUM_TRIALS = 10\n",
    "\n",
    "C_range = np.logspace(-5, 15, 11, base=2.0)\n",
    "gamma_range = np.logspace(-15, 3, 10, base=2.0) # amendable\n",
    "\n",
    "p_grid = dict(gamma=gamma_range, C=C_range)\n",
    "\n",
    "svr = svm.SVC(kernel=\"rbf\",\n",
    "              class_weight='balanced')\n",
    "# svr = svm.SVC(kernel=\"linear\")\n",
    "\n",
    "non_nested_scores = np.zeros(NUM_TRIALS)\n",
    "nested_scores = np.zeros(NUM_TRIALS)\n",
    "\n",
    "for i in range(NUM_TRIALS):\n",
    "\n",
    "    # Choose cross-validation techniques for the inner and outer loops,\n",
    "    # independently of the dataset.\n",
    "    # E.g \"LabelKFold\", \"LeaveOneOut\", \"LeaveOneLabelOut\", etc.\n",
    "    inner_cv = KFold(n_splits=5, shuffle=True, random_state=i)\n",
    "    outer_cv = KFold(n_splits=5, shuffle=True, random_state=i)\n",
    "\n",
    "    # Non_nested parameter search and scoring\n",
    "    clf = GridSearchCV(estimator=svr, param_grid=p_grid, cv=inner_cv)\n",
    "    clf.fit(X, Y)\n",
    "    non_nested_scores[i] = clf.best_score_\n",
    "\n",
    "    # Nested CV with parameter optimization\n",
    "    nested_score = cross_val_score(clf, X=X, y=Y, cv=outer_cv)\n",
    "    nested_scores[i] = nested_score.mean()\n",
    "    print('Iter', i+1,'/10 finished')\n",
    "\n",
    "score_difference = non_nested_scores - nested_scores\n",
    "\n",
    "print(\"Average difference of {0:6f} with std. dev. of {1:6f}.\"\n",
    "      .format(score_difference.mean(), score_difference.std()))\n",
    "\n",
    "print(\"The best parameters are %s with a score of %0.2f\"\n",
    "       % (clf.best_params_, clf.best_score_))"
   ]
  },
  {
   "cell_type": "code",
   "execution_count": 136,
   "metadata": {},
   "outputs": [
    {
     "name": "stdout",
     "output_type": "stream",
     "text": [
      "The best parameters are {'min_samples_split': 5, 'min_samples_leaf': 10, 'max_depth': 3, 'criterion': 'gini'} with a score of 0.75\n"
     ]
    }
   ],
   "source": [
    "# Random Forest\n",
    "p_grid = {\"max_depth\": [2, 3, 5],\n",
    "          \"min_samples_split\": [2, 5],\n",
    "          \"min_samples_leaf\": [10, 20, 50, 100],\n",
    "          \"criterion\": [\"gini\", \"entropy\"]}\n",
    "\n",
    "rf = RandomForestClassifier(class_weight='balanced',\n",
    "                            bootstrap=False,\n",
    "                            n_estimators=300,\n",
    "                            max_features='auto')\n",
    "\n",
    "inner_cv = KFold(n_splits=5, shuffle=True)\n",
    "clf = GridSearchCV(estimator=rf, param_grid=p_grid, cv=inner_cv)\n",
    "clf.fit(X, Y)\n",
    "\n",
    "print(\"The best parameters are %s with a score of %0.2f\"\n",
    "       % (clf.best_params_, clf.best_score_))"
   ]
  },
  {
   "cell_type": "code",
   "execution_count": 171,
   "metadata": {},
   "outputs": [
    {
     "name": "stdout",
     "output_type": "stream",
     "text": [
      "The best parameters are {'colsample_bytree': 0.7, 'gamma': 0.01, 'learning_rate': 0.1, 'max_depth': 3, 'subsample': 0.7, 'min_child_weight': 3} with a score of 0.78\n"
     ]
    }
   ],
   "source": [
    "# XGBoost\n",
    "NUM_TRIALS = 20\n",
    "\n",
    "p_grid = {\"learning_rate\": [0.01, 0.05, 0.1, 0.2],\n",
    "          \"max_depth\": [3],\n",
    "          \"min_child_weight\": [1, 2, 3, 5],\n",
    "          \"gamma\": [0.0, 0.01, 0.1, 1],\n",
    "          \"subsample\": [0.5, 0.7, 1.0],\n",
    "          \"colsample_bytree\": [0.5, 0.7, 1]}\n",
    "\n",
    "clf_xgb = XGBClassifier(scale_pos_weight=8, \n",
    "                        n_estimators=100)\n",
    "\n",
    "inner_cv = KFold(n_splits=5, shuffle=True)\n",
    "clf = GridSearchCV(estimator=clf_xgb, param_grid=p_grid, cv=inner_cv)\n",
    "clf.fit(X, Y)\n",
    "\n",
    "print(\"The best parameters are %s with a score of %0.2f\"\n",
    "       % (clf.best_params_, clf.best_score_))"
   ]
  },
  {
   "cell_type": "code",
   "execution_count": 58,
   "metadata": {
    "collapsed": true
   },
   "outputs": [],
   "source": [
    "clf_lr = LogisticRegression(penalty='l2', \n",
    "                            dual=True, \n",
    "                            C=1000000,\n",
    "                            tol=0.0001,\n",
    "                            fit_intercept=False,\n",
    "                            intercept_scaling=1, \n",
    "                            random_state=None, \n",
    "                            solver='liblinear', \n",
    "                            max_iter=100, \n",
    "                            multi_class='ovr', \n",
    "                            verbose=0, \n",
    "                            warm_start=False, \n",
    "                            n_jobs=1)"
   ]
  },
  {
   "cell_type": "code",
   "execution_count": 87,
   "metadata": {},
   "outputs": [
    {
     "name": "stdout",
     "output_type": "stream",
     "text": [
      "             precision    recall  f1-score   support\n",
      "\n",
      "        0.0       0.79      0.81      0.80        89\n",
      "        1.0       0.54      0.51      0.53        39\n",
      "\n",
      "avg / total       0.71      0.72      0.72       128\n",
      "\n",
      "0.660904638433\n",
      "0.71875\n"
     ]
    }
   ],
   "source": [
    "y_pred = cross_val_predict(clf_lr, X, Y, cv=5)\n",
    "print(classification_report(Y, y_pred))\n",
    "print(roc_auc_score(Y, y_pred))\n",
    "print((y_pred==Y).sum()/128)"
   ]
  },
  {
   "cell_type": "code",
   "execution_count": 59,
   "metadata": {
    "collapsed": true
   },
   "outputs": [],
   "source": [
    "clf_svm = svm.SVC(class_weight='balanced',\n",
    "                  kernel='rbf',\n",
    "                  C=0.5,\n",
    "                  gamma=0.03125,\n",
    "                  probability=True)"
   ]
  },
  {
   "cell_type": "code",
   "execution_count": 134,
   "metadata": {},
   "outputs": [
    {
     "name": "stdout",
     "output_type": "stream",
     "text": [
      "             precision    recall  f1-score   support\n",
      "\n",
      "        0.0       0.80      0.66      0.72        89\n",
      "        1.0       0.44      0.62      0.52        39\n",
      "\n",
      "avg / total       0.69      0.65      0.66       128\n",
      "\n",
      "0.63915298185\n",
      "0.6484375\n"
     ]
    }
   ],
   "source": [
    "y_pred = cross_val_predict(clf_svm, X, Y, cv=5)\n",
    "print(classification_report(Y, y_pred))\n",
    "print(roc_auc_score(Y, y_pred))\n",
    "print((y_pred==Y).sum()/128)"
   ]
  },
  {
   "cell_type": "code",
   "execution_count": 60,
   "metadata": {
    "collapsed": true
   },
   "outputs": [],
   "source": [
    "clf_rf = RandomForestClassifier(bootstrap=False, \n",
    "                                min_samples_leaf=20, \n",
    "                                criterion='gini', \n",
    "                                min_samples_split=5, \n",
    "                                max_depth=2, \n",
    "                                n_estimators=300,\n",
    "                                max_features='auto',\n",
    "                                class_weight='balanced')"
   ]
  },
  {
   "cell_type": "code",
   "execution_count": 170,
   "metadata": {},
   "outputs": [
    {
     "name": "stdout",
     "output_type": "stream",
     "text": [
      "             precision    recall  f1-score   support\n",
      "\n",
      "        0.0       0.81      0.82      0.82        89\n",
      "        1.0       0.58      0.56      0.57        39\n",
      "\n",
      "avg / total       0.74      0.74      0.74       128\n",
      "\n",
      "0.692163641602\n",
      "0.7421875\n"
     ]
    }
   ],
   "source": [
    "y_pred = cross_val_predict(clf_rf, X, Y, cv=5)\n",
    "print(classification_report(Y, y_pred))\n",
    "print(roc_auc_score(Y, y_pred))\n",
    "print((y_pred==Y).sum()/128)"
   ]
  },
  {
   "cell_type": "code",
   "execution_count": 61,
   "metadata": {
    "collapsed": true
   },
   "outputs": [],
   "source": [
    "clf_xgb = XGBClassifier(learning_rate=0.01,\n",
    "                        subsample=0.7,\n",
    "                        n_estimators=5000,\n",
    "                        min_child_weight=3,\n",
    "                        gamma=0.01,\n",
    "                        reg_alpha=0,\n",
    "                        reg_lambda=1,\n",
    "                        max_depth=3,\n",
    "                        colsample_bytree=0.7)"
   ]
  },
  {
   "cell_type": "code",
   "execution_count": 185,
   "metadata": {},
   "outputs": [
    {
     "name": "stdout",
     "output_type": "stream",
     "text": [
      "             precision    recall  f1-score   support\n",
      "\n",
      "        0.0       0.75      0.90      0.82        89\n",
      "        1.0       0.59      0.33      0.43        39\n",
      "\n",
      "avg / total       0.70      0.73      0.70       128\n",
      "\n",
      "0.616104868914\n",
      "0.7265625\n"
     ]
    }
   ],
   "source": [
    "y_pred = cross_val_predict(clf_xgb, X, Y, cv=5)\n",
    "print(classification_report(Y, y_pred))\n",
    "print(roc_auc_score(Y, y_pred))\n",
    "print((y_pred==Y).sum()/128)"
   ]
  },
  {
   "cell_type": "code",
   "execution_count": 62,
   "metadata": {
    "collapsed": true
   },
   "outputs": [],
   "source": [
    "eclf2 = VotingClassifier(estimators=[('xgb', clf_xgb), \n",
    "                                     ('lr',  clf_lr),\n",
    "                                     ('rf', clf_rf),\n",
    "                                     ('svm', clf_svm)],\n",
    "                         voting='soft',\n",
    "                         weights=[5,1,5,1])"
   ]
  },
  {
   "cell_type": "code",
   "execution_count": 205,
   "metadata": {},
   "outputs": [
    {
     "name": "stdout",
     "output_type": "stream",
     "text": [
      "             precision    recall  f1-score   support\n",
      "\n",
      "        0.0       0.77      0.91      0.84        89\n",
      "        1.0       0.65      0.38      0.48        39\n",
      "\n",
      "avg / total       0.74      0.75      0.73       128\n",
      "\n",
      "0.647363872083\n",
      "0.75\n"
     ]
    }
   ],
   "source": [
    "y_pred = cross_val_predict(eclf2, X, Y, cv=5)\n",
    "print(classification_report(Y, y_pred))\n",
    "print(roc_auc_score(Y, y_pred))\n",
    "print((y_pred==Y).sum()/128)"
   ]
  },
  {
   "cell_type": "code",
   "execution_count": 63,
   "metadata": {},
   "outputs": [
    {
     "data": {
      "image/png": "[encoded data removed]",
      "text/plain": [
       "<matplotlib.figure.Figure at 0x10e291978>"
      ]
     },
     "metadata": {
      "image/png": {
       "height": 359,
       "width": 523
      }
     },
     "output_type": "display_data"
    }
   ],
   "source": [
    "colors = ['#3f7f93', '#7ba7b5', '#d58a76', '#c25539', '#5a445e']\n",
    "\n",
    "fpr_lr, tpr_lr, _ = roc_curve(Y, cross_val_predict(clf_lr, X, Y, cv=5, method='predict_proba')[:,1])\n",
    "lr_auc = auc(fpr_lr, tpr_lr)\n",
    "fpr_svm, tpr_svm, _ = roc_curve(Y, cross_val_predict(clf_svm, X, Y, cv=5, method='predict_proba')[:,1])\n",
    "svm_auc = auc(fpr_svm, tpr_svm)\n",
    "fpr_rf, tpr_rf, _ = roc_curve(Y, cross_val_predict(clf_rf, X, Y, cv=5, method='predict_proba')[:,1])\n",
    "rf_auc = auc(fpr_rf, tpr_rf)\n",
    "fpr_xgb, tpr_xgb, _ = roc_curve(Y, cross_val_predict(clf_xgb, X, Y, cv=5, method='predict_proba')[:,1])\n",
    "xgb_auc = auc(fpr_xgb, tpr_xgb)\n",
    "fpr_en, tpr_en, _ = roc_curve(Y, cross_val_predict(eclf1, X, Y, cv=5, method='predict_proba')[:,1])\n",
    "en_auc = auc(fpr_en, tpr_en)\n",
    "\n",
    "plt.plot([0, 1], [0, 1], linestyle='--',color='k', label='Luck')\n",
    "plt.plot(fpr_lr, tpr_lr, color=colors[0],   label='LR (area = %0.2f)' % (lr_auc))\n",
    "plt.plot(fpr_svm, tpr_svm, color=colors[1], label='SVM (area = %0.2f)' % (svm_auc))\n",
    "plt.plot(fpr_rf, tpr_rf, color=colors[2],   label='RF (area = %0.2f)' % (rf_auc))\n",
    "plt.plot(fpr_xgb, tpr_xgb, color=colors[3], label='XGB (area = %0.2f)' % (xgb_auc))\n",
    "plt.plot(fpr_en, tpr_en, color=colors[4],   label='Ensemble (area = %0.2f)' % (en_auc))\n",
    "\n",
    "plt.legend(loc=\"lower right\")\n",
    "plt.savefig('sf_7.pdf')"
   ]
  },
  {
   "cell_type": "code",
   "execution_count": null,
   "metadata": {
    "collapsed": true
   },
   "outputs": [],
   "source": []
  },
  {
   "cell_type": "code",
   "execution_count": null,
   "metadata": {
    "collapsed": true
   },
   "outputs": [],
   "source": []
  },
  {
   "cell_type": "markdown",
   "metadata": {},
   "source": [
    "# Elastic Net"
   ]
  },
  {
   "cell_type": "code",
   "execution_count": 64,
   "metadata": {},
   "outputs": [
    {
     "name": "stderr",
     "output_type": "stream",
     "text": [
      "//anaconda/lib/python3.5/site-packages/sklearn/linear_model/coordinate_descent.py:484: ConvergenceWarning: Objective did not converge. You might want to increase the number of iterations. Fitting data with very small alpha may cause precision problems.\n",
      "  ConvergenceWarning)\n"
     ]
    },
    {
     "data": {
      "text/plain": [
       "ElasticNetCV(alphas=None, copy_X=True, cv=5, eps=0.001, fit_intercept=False,\n",
       "       l1_ratio=0.5, max_iter=1000, n_alphas=100, n_jobs=1,\n",
       "       normalize=False, positive=False, precompute='auto',\n",
       "       random_state=None, selection='cyclic', tol=0.0001, verbose=0)"
      ]
     },
     "execution_count": 64,
     "metadata": {},
     "output_type": "execute_result"
    }
   ],
   "source": [
    "model_EN = ElasticNetCV(copy_X=True,\n",
    "                        cv=5, \n",
    "                        eps=0.001, \n",
    "                        fit_intercept=False,\n",
    "                        l1_ratio=0.5, \n",
    "                        max_iter=1000, \n",
    "                        n_alphas=100, \n",
    "                        n_jobs=1,\n",
    "                        normalize=False, \n",
    "                        positive=False, \n",
    "                        precompute='auto',\n",
    "                        random_state=None, \n",
    "                        selection='cyclic', \n",
    "                        tol=0.0001, \n",
    "                        verbose=0)\n",
    "\n",
    "model_EN.fit(X, Y)"
   ]
  },
  {
   "cell_type": "code",
   "execution_count": 65,
   "metadata": {},
   "outputs": [
    {
     "name": "stdout",
     "output_type": "stream",
     "text": [
      "Elastic Net picked 20 variables and eliminated the other 471 variables\n"
     ]
    }
   ],
   "source": [
    "coef_EN = pd.Series(model_EN.coef_, index = X.columns)\n",
    "print(\"Elastic Net picked \" + str(sum(coef_EN!=0)) + \" variables and eliminated the other \" +\\\n",
    "      str(sum(coef_EN==0)) + \" variables\")"
   ]
  },
  {
   "cell_type": "code",
   "execution_count": 66,
   "metadata": {
    "collapsed": true
   },
   "outputs": [],
   "source": [
    "cols = coef_EN[coef_EN!=0].index\n",
    "X    = X[cols]"
   ]
  },
  {
   "cell_type": "code",
   "execution_count": 327,
   "metadata": {},
   "outputs": [
    {
     "name": "stdout",
     "output_type": "stream",
     "text": [
      "Iter 1 /10 finished\n",
      "Iter 2 /10 finished\n",
      "Iter 3 /10 finished\n",
      "Iter 4 /10 finished\n",
      "Iter 5 /10 finished\n",
      "Iter 6 /10 finished\n",
      "Iter 7 /10 finished\n",
      "Iter 8 /10 finished\n",
      "Iter 9 /10 finished\n",
      "Iter 10 /10 finished\n",
      "Average difference of 0.037108 with std. dev. of 0.031162.\n",
      "The best parameters are {'gamma': 0.0078125, 'C': 512.0} with a score of 0.79\n"
     ]
    }
   ],
   "source": [
    "# SVM\n",
    "NUM_TRIALS = 10\n",
    "\n",
    "C_range = np.logspace(-5, 15, 11, base=2.0)\n",
    "gamma_range = np.logspace(-15, 3, 10, base=2.0) # amendable\n",
    "\n",
    "p_grid = dict(gamma=gamma_range, C=C_range)\n",
    "\n",
    "svr = svm.SVC(kernel=\"rbf\",\n",
    "              class_weight='balanced')\n",
    "# svr = svm.SVC(kernel=\"linear\")\n",
    "\n",
    "non_nested_scores = np.zeros(NUM_TRIALS)\n",
    "nested_scores = np.zeros(NUM_TRIALS)\n",
    "\n",
    "for i in range(NUM_TRIALS):\n",
    "\n",
    "    # Choose cross-validation techniques for the inner and outer loops,\n",
    "    # independently of the dataset.\n",
    "    # E.g \"LabelKFold\", \"LeaveOneOut\", \"LeaveOneLabelOut\", etc.\n",
    "    inner_cv = KFold(n_splits=5, shuffle=True, random_state=i)\n",
    "    outer_cv = KFold(n_splits=5, shuffle=True, random_state=i)\n",
    "\n",
    "    # Non_nested parameter search and scoring\n",
    "    clf = GridSearchCV(estimator=svr, param_grid=p_grid, cv=inner_cv)\n",
    "    clf.fit(X, Y)\n",
    "    non_nested_scores[i] = clf.best_score_\n",
    "\n",
    "    # Nested CV with parameter optimization\n",
    "    nested_score = cross_val_score(clf, X=X, y=Y, cv=outer_cv)\n",
    "    nested_scores[i] = nested_score.mean()\n",
    "    print('Iter', i+1,'/10 finished')\n",
    "\n",
    "score_difference = non_nested_scores - nested_scores\n",
    "\n",
    "print(\"Average difference of {0:6f} with std. dev. of {1:6f}.\"\n",
    "      .format(score_difference.mean(), score_difference.std()))\n",
    "\n",
    "print(\"The best parameters are %s with a score of %0.2f\"\n",
    "       % (clf.best_params_, clf.best_score_))"
   ]
  },
  {
   "cell_type": "code",
   "execution_count": 338,
   "metadata": {},
   "outputs": [
    {
     "name": "stdout",
     "output_type": "stream",
     "text": [
      "The best parameters are {'min_samples_split': 5, 'min_samples_leaf': 10, 'max_depth': 2, 'criterion': 'entropy'} with a score of 0.78\n"
     ]
    }
   ],
   "source": [
    "# Random Forest\n",
    "p_grid = {\"max_depth\": [2, 3, 5],\n",
    "          \"min_samples_split\": [2, 5],\n",
    "          \"min_samples_leaf\": [10, 20, 50, 100],\n",
    "          \"criterion\": [\"gini\", \"entropy\"]}\n",
    "\n",
    "rf = RandomForestClassifier(class_weight='balanced',\n",
    "                            bootstrap=False,\n",
    "                            n_estimators=300,\n",
    "                            max_features='auto')\n",
    "\n",
    "inner_cv = KFold(n_splits=5, shuffle=True)\n",
    "clf = GridSearchCV(estimator=rf, param_grid=p_grid, cv=inner_cv)\n",
    "clf.fit(X, Y)\n",
    "\n",
    "print(\"The best parameters are %s with a score of %0.2f\"\n",
    "       % (clf.best_params_, clf.best_score_))"
   ]
  },
  {
   "cell_type": "code",
   "execution_count": 368,
   "metadata": {},
   "outputs": [
    {
     "name": "stdout",
     "output_type": "stream",
     "text": [
      "The best parameters are {'colsample_bytree': 1, 'gamma': 0.0, 'learning_rate': 0.2, 'max_depth': 3, 'subsample': 1.0, 'min_child_weight': 1} with a score of 0.79\n"
     ]
    }
   ],
   "source": [
    "# XGBoost\n",
    "NUM_TRIALS = 20\n",
    "\n",
    "p_grid = {\"learning_rate\": [0.01, 0.05, 0.1, 0.2],\n",
    "          \"max_depth\": [3],\n",
    "          \"min_child_weight\": [1, 2, 3, 5],\n",
    "          \"gamma\": [0.0, 0.01, 0.1, 1],\n",
    "          \"subsample\": [0.5, 0.7, 1.0],\n",
    "          \"colsample_bytree\": [0.5, 0.7, 1]}\n",
    "\n",
    "clf_xgb = XGBClassifier(scale_pos_weight=8, \n",
    "                        n_estimators=100)\n",
    "\n",
    "inner_cv = KFold(n_splits=5, shuffle=True)\n",
    "clf = GridSearchCV(estimator=clf_xgb, param_grid=p_grid, cv=inner_cv)\n",
    "clf.fit(X, Y)\n",
    "\n",
    "print(\"The best parameters are %s with a score of %0.2f\"\n",
    "       % (clf.best_params_, clf.best_score_))"
   ]
  },
  {
   "cell_type": "code",
   "execution_count": 67,
   "metadata": {
    "collapsed": true
   },
   "outputs": [],
   "source": [
    "clf_svm = svm.SVC(class_weight='balanced',\n",
    "                  kernel='rbf',\n",
    "                  C=64.0,\n",
    "                  gamma=0.0078125,\n",
    "                  probability=True)"
   ]
  },
  {
   "cell_type": "code",
   "execution_count": 337,
   "metadata": {},
   "outputs": [
    {
     "name": "stdout",
     "output_type": "stream",
     "text": [
      "             precision    recall  f1-score   support\n",
      "\n",
      "        0.0       0.85      0.83      0.84        89\n",
      "        1.0       0.63      0.67      0.65        39\n",
      "\n",
      "avg / total       0.78      0.78      0.78       128\n",
      "\n",
      "0.749063670412\n",
      "0.78125\n"
     ]
    }
   ],
   "source": [
    "y_pred = cross_val_predict(clf_svm, X, Y, cv=5)\n",
    "print(classification_report(Y, y_pred))\n",
    "print(roc_auc_score(Y, y_pred))\n",
    "print((y_pred==Y).sum()/128)"
   ]
  },
  {
   "cell_type": "code",
   "execution_count": 68,
   "metadata": {
    "collapsed": true
   },
   "outputs": [],
   "source": [
    "clf_rf = RandomForestClassifier(bootstrap=False, \n",
    "                                min_samples_leaf=20, \n",
    "                                criterion='entropy', \n",
    "                                min_samples_split=5, \n",
    "                                max_depth=2, \n",
    "                                n_estimators=300,\n",
    "                                max_features='auto',\n",
    "                                class_weight='balanced')"
   ]
  },
  {
   "cell_type": "code",
   "execution_count": 352,
   "metadata": {},
   "outputs": [
    {
     "name": "stdout",
     "output_type": "stream",
     "text": [
      "             precision    recall  f1-score   support\n",
      "\n",
      "        0.0       0.88      0.76      0.82        89\n",
      "        1.0       0.59      0.77      0.67        39\n",
      "\n",
      "avg / total       0.79      0.77      0.77       128\n",
      "\n",
      "0.766637856525\n",
      "0.765625\n"
     ]
    }
   ],
   "source": [
    "y_pred = cross_val_predict(clf_rf, X, Y, cv=5)\n",
    "print(classification_report(Y, y_pred))\n",
    "print(roc_auc_score(Y, y_pred))\n",
    "print((y_pred==Y).sum()/128)"
   ]
  },
  {
   "cell_type": "code",
   "execution_count": 69,
   "metadata": {
    "collapsed": true
   },
   "outputs": [],
   "source": [
    "clf_lr = LogisticRegression(penalty='l2', \n",
    "                            dual=True, \n",
    "                            C=10,\n",
    "                            tol=0.0001,\n",
    "                            fit_intercept=True,\n",
    "                            intercept_scaling=1, \n",
    "                            random_state=None, \n",
    "                            solver='liblinear', \n",
    "                            max_iter=100, \n",
    "                            multi_class='ovr', \n",
    "                            verbose=0, \n",
    "                            warm_start=False, \n",
    "                            n_jobs=1)"
   ]
  },
  {
   "cell_type": "code",
   "execution_count": 367,
   "metadata": {},
   "outputs": [
    {
     "name": "stdout",
     "output_type": "stream",
     "text": [
      "             precision    recall  f1-score   support\n",
      "\n",
      "        0.0       0.83      0.88      0.85        89\n",
      "        1.0       0.68      0.59      0.63        39\n",
      "\n",
      "avg / total       0.78      0.79      0.78       128\n",
      "\n",
      "0.733074042063\n",
      "0.7890625\n"
     ]
    }
   ],
   "source": [
    "y_pred = cross_val_predict(clf_lr, X, Y, cv=5)\n",
    "print(classification_report(Y, y_pred))\n",
    "print(roc_auc_score(Y, y_pred))\n",
    "print((y_pred==Y).sum()/128)"
   ]
  },
  {
   "cell_type": "code",
   "execution_count": 70,
   "metadata": {
    "collapsed": true
   },
   "outputs": [],
   "source": [
    "clf_xgb = XGBClassifier(learning_rate=0.2,\n",
    "                        subsample=1.0,\n",
    "                        n_estimators=10,\n",
    "                        min_child_weight=1,\n",
    "                        gamma=0.0,\n",
    "                        reg_alpha=0,\n",
    "                        reg_lambda=1,\n",
    "                        max_depth=3,\n",
    "                        colsample_bytree=1)"
   ]
  },
  {
   "cell_type": "code",
   "execution_count": 410,
   "metadata": {},
   "outputs": [
    {
     "name": "stdout",
     "output_type": "stream",
     "text": [
      "             precision    recall  f1-score   support\n",
      "\n",
      "        0.0       0.83      0.89      0.86        89\n",
      "        1.0       0.70      0.59      0.64        39\n",
      "\n",
      "avg / total       0.79      0.80      0.79       128\n",
      "\n",
      "0.738692019591\n",
      "0.796875\n"
     ]
    }
   ],
   "source": [
    "y_pred = cross_val_predict(clf_xgb, X, Y, cv=5)\n",
    "print(classification_report(Y, y_pred))\n",
    "print(roc_auc_score(Y, y_pred))\n",
    "print((y_pred==Y).sum()/128)"
   ]
  },
  {
   "cell_type": "code",
   "execution_count": 71,
   "metadata": {
    "collapsed": true
   },
   "outputs": [],
   "source": [
    "eclf2 = VotingClassifier(estimators=[('rf', clf_rf), \n",
    "                                     ('lr',  clf_lr),\n",
    "                                     ('svm', clf_svm),\n",
    "                                     ('xgb', clf_xgb)],\n",
    "                         voting='soft',\n",
    "                         weights=[10,1,1,1])"
   ]
  },
  {
   "cell_type": "code",
   "execution_count": 426,
   "metadata": {},
   "outputs": [
    {
     "name": "stdout",
     "output_type": "stream",
     "text": [
      "             precision    recall  f1-score   support\n",
      "\n",
      "        0.0       0.86      0.83      0.85        89\n",
      "        1.0       0.64      0.69      0.67        39\n",
      "\n",
      "avg / total       0.79      0.79      0.79       128\n",
      "\n",
      "0.761884183232\n",
      "0.7890625\n"
     ]
    }
   ],
   "source": [
    "y_pred = cross_val_predict(eclf1, X, Y, cv=5)\n",
    "print(classification_report(Y, y_pred))\n",
    "print(roc_auc_score(Y, y_pred))\n",
    "print((y_pred==Y).sum()/128)"
   ]
  },
  {
   "cell_type": "code",
   "execution_count": 72,
   "metadata": {},
   "outputs": [
    {
     "data": {
      "image/png": "[encoded data removed]",
      "text/plain": [
       "<matplotlib.figure.Figure at 0x11a99c5c0>"
      ]
     },
     "metadata": {
      "image/png": {
       "height": 359,
       "width": 523
      }
     },
     "output_type": "display_data"
    }
   ],
   "source": [
    "colors = ['#3f7f93', '#7ba7b5', '#d58a76', '#c25539', '#5a445e']\n",
    "\n",
    "fpr_lr, tpr_lr, _ = roc_curve(Y, cross_val_predict(clf_lr, X, Y, cv=5, method='predict_proba')[:,1])\n",
    "lr_auc = auc(fpr_lr, tpr_lr)\n",
    "fpr_svm, tpr_svm, _ = roc_curve(Y, cross_val_predict(clf_svm, X, Y, cv=5, method='predict_proba')[:,1])\n",
    "svm_auc = auc(fpr_svm, tpr_svm)\n",
    "fpr_rf, tpr_rf, _ = roc_curve(Y, cross_val_predict(clf_rf, X, Y, cv=5, method='predict_proba')[:,1])\n",
    "rf_auc = auc(fpr_rf, tpr_rf)\n",
    "fpr_xgb, tpr_xgb, _ = roc_curve(Y, cross_val_predict(clf_xgb, X, Y, cv=5, method='predict_proba')[:,1])\n",
    "xgb_auc = auc(fpr_xgb, tpr_xgb)\n",
    "fpr_en, tpr_en, _ = roc_curve(Y, cross_val_predict(eclf1, X, Y, cv=5, method='predict_proba')[:,1])\n",
    "en_auc = auc(fpr_en, tpr_en)\n",
    "\n",
    "plt.plot([0, 1], [0, 1], linestyle='--',color='k', label='Luck')\n",
    "plt.plot(fpr_lr, tpr_lr, color=colors[0],   label='LR (area = %0.2f)' % (lr_auc))\n",
    "plt.plot(fpr_svm, tpr_svm, color=colors[1], label='SVM (area = %0.2f)' % (svm_auc))\n",
    "plt.plot(fpr_rf, tpr_rf, color=colors[2],   label='RF (area = %0.2f)' % (rf_auc))\n",
    "plt.plot(fpr_xgb, tpr_xgb, color=colors[3], label='XGB (area = %0.2f)' % (xgb_auc))\n",
    "plt.plot(fpr_en, tpr_en, color=colors[4],   label='Ensemble (area = %0.2f)' % (en_auc))\n",
    "\n",
    "plt.legend(loc=\"lower right\")\n",
    "plt.savefig('sf_7_fs.pdf')"
   ]
  },
  {
   "cell_type": "code",
   "execution_count": null,
   "metadata": {
    "collapsed": true
   },
   "outputs": [],
   "source": []
  },
  {
   "cell_type": "code",
   "execution_count": null,
   "metadata": {
    "collapsed": true
   },
   "outputs": [],
   "source": []
  },
  {
   "cell_type": "code",
   "execution_count": null,
   "metadata": {
    "collapsed": true
   },
   "outputs": [],
   "source": []
  },
  {
   "cell_type": "code",
   "execution_count": null,
   "metadata": {
    "collapsed": true
   },
   "outputs": [],
   "source": []
  },
  {
   "cell_type": "code",
   "execution_count": null,
   "metadata": {
    "collapsed": true
   },
   "outputs": [],
   "source": []
  },
  {
   "cell_type": "code",
   "execution_count": 439,
   "metadata": {},
   "outputs": [
    {
     "data": {
      "text/plain": [
       "<matplotlib.legend.Legend at 0x10fc60898>"
      ]
     },
     "execution_count": 439,
     "metadata": {},
     "output_type": "execute_result"
    },
    {
     "data": {
      "image/png": "[encoded data removed]",
      "text/plain": [
       "<matplotlib.figure.Figure at 0x10fc60eb8>"
      ]
     },
     "metadata": {
      "image/png": {
       "height": 359,
       "width": 523
      }
     },
     "output_type": "display_data"
    }
   ],
   "source": [
    "fpr_grd, tpr_grd, _ = roc_curve(Y, cross_val_predict(eclf1, X, Y, cv=5, method='predict_proba')[:,1])\n",
    "eclf1_auc = auc(fpr_grd, tpr_grd)\n",
    "plt.plot(fpr_grd, tpr_grd, label='ROC fold (area = %0.2f)' % (roc_auc))\n",
    "plt.legend(loc=\"lower right\")"
   ]
  },
  {
   "cell_type": "code",
   "execution_count": null,
   "metadata": {
    "collapsed": true
   },
   "outputs": [],
   "source": []
  }
 ],
 "metadata": {
  "anaconda-cloud": {},
  "kernelspec": {
   "display_name": "Python [default]",
   "language": "python",
   "name": "python3"
  },
  "language_info": {
   "codemirror_mode": {
    "name": "ipython",
    "version": 3
   },
   "file_extension": ".py",
   "mimetype": "text/x-python",
   "name": "python",
   "nbconvert_exporter": "python",
   "pygments_lexer": "ipython3",
   "version": "3.5.4"
  }
 },
 "nbformat": 4,
 "nbformat_minor": 1
}
